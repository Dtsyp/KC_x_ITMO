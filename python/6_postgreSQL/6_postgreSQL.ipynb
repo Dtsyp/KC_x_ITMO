{
 "cells": [
  {
   "cell_type": "code",
   "id": "initial_id",
   "metadata": {
    "collapsed": true,
    "ExecuteTime": {
     "end_time": "2025-04-09T08:12:30.378592Z",
     "start_time": "2025-04-09T08:12:29.676703Z"
    }
   },
   "source": [
    "import psycopg2\n",
    "import pandas as pd\n",
    "\n",
    "connection = psycopg2.connect(\n",
    "    database=\"startml\",\n",
    "    user=\"robot-startml-ro\",\n",
    "    password=\"pheiph0hahj1Vaif\",\n",
    "    host=\"postgres.lab.karpov.courses\",\n",
    "    port=6432\n",
    ")\n",
    "\n",
    "cursor = connection.cursor()\n",
    "# cursor.execute('SELECT * FROM \"user\"')\n",
    "# cursor.execute('SELECT DISTINCT topic FROM post')\n",
    "# cursor.execute('SELECT * FROM \"user\" WHERE age > 30 AND os = \\'iOS\\'')\n",
    "# cursor.execute('SELECT * FROM \"user\" WHERE country != \\'Russia\\' AND (exp_group NOT IN (0, 3) OR city = \\'Minsk\\')')\n",
    "# cursor.execute(\n",
    "#     'SELECT country, ROUND(AVG(age), 2) FROM \"user\" GROUP BY country'\n",
    "# )\n",
    "# cursor.execute(\n",
    "#     'SELECT exp_group, os, COUNT(id) AS total_users, MAX(age) AS max_age, MIN(age) AS min_age FROM \"user\" GROUP BY exp_group, os'\n",
    "# )\n",
    "# cursor.execute(\n",
    "#     'SELECT topic, MAX(LENGTH(text)) AS max_len FROM post GROUP BY topic HAVING MAX(LENGTH(text)) > 25000'\n",
    "# )\n",
    "# cursor.execute(\n",
    "#     'SELECT COUNT(id), country FROM \"user\" GROUP BY country HAVING COUNT(id) > 1000'\n",
    "# )\n",
    "# cursor.execute(\n",
    "#     'SELECT exp_group, COUNT(id) FROM \"user\" WHERE city = \\'Moscow\\' GROUP BY exp_group HAVING AVG(age) > 27.2'\n",
    "# )\n",
    "# cursor.execute(\n",
    "#     'SELECT topic, COUNT(id) AS post_count FROM post GROUP BY topic ORDER BY post_count DESC'\n",
    "# )\n",
    "cursor.execute(\n",
    "    'SELECT * FROM \"user\" WHERE city = \\'Voronezh\\' ORDER BY age DESC, exp_group ASC'\n",
    ")\n",
    "df = pd.DataFrame(\n",
    "    cursor.fetchall(),\n",
    "    columns=[desc[0] for desc in cursor.description]\n",
    ")\n",
    "df.to_csv('result.csv', sep=',', index=False)\n",
    "\n",
    "print(df)\n",
    "\n",
    "cursor.close()\n",
    "connection.close()"
   ],
   "outputs": [
    {
     "name": "stdout",
     "output_type": "stream",
     "text": [
      "          id  gender  age country      city  exp_group       os   source\n",
      "0      89990       0   71  Russia  Voronezh          0  Android      ads\n",
      "1       2441       1   71  Russia  Voronezh          3  Android      ads\n",
      "2      14184       1   66  Russia  Voronezh          3  Android      ads\n",
      "3      35093       0   65  Russia  Voronezh          0  Android      ads\n",
      "4      77284       0   64  Russia  Voronezh          4  Android      ads\n",
      "...      ...     ...  ...     ...       ...        ...      ...      ...\n",
      "1369  151841       1   14  Russia  Voronezh          4  Android  organic\n",
      "1370  116446       0   14  Russia  Voronezh          4      iOS  organic\n",
      "1371   18278       0   14  Russia  Voronezh          4  Android      ads\n",
      "1372  110611       1   14  Russia  Voronezh          4  Android  organic\n",
      "1373   29604       0   14  Russia  Voronezh          4  Android      ads\n",
      "\n",
      "[1374 rows x 8 columns]\n"
     ]
    }
   ],
   "execution_count": 28
  }
 ],
 "metadata": {
  "kernelspec": {
   "display_name": "Python 3",
   "language": "python",
   "name": "python3"
  },
  "language_info": {
   "codemirror_mode": {
    "name": "ipython",
    "version": 2
   },
   "file_extension": ".py",
   "mimetype": "text/x-python",
   "name": "python",
   "nbconvert_exporter": "python",
   "pygments_lexer": "ipython2",
   "version": "2.7.6"
  }
 },
 "nbformat": 4,
 "nbformat_minor": 5
}
