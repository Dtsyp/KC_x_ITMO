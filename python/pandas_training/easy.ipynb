{
 "cells": [
  {
   "cell_type": "markdown",
   "metadata": {},
   "source": [
    "# Pandas: задания базового уровня\n",
    "\n",
    "Этот ноутбук содержит 40 заданий по библиотеке Pandas начального уровня. Задания основаны на классическом наборе данных о пассажирах Титаника.\n",
    "\n",
    "## Подготовка данных\n",
    "\n",
    "Перед выполнением заданий, загрузим данные:"
   ]
  },
  {
   "cell_type": "code",
   "execution_count": null,
   "metadata": {},
   "outputs": [],
   "source": [
    "import pandas as pd\n",
    "import numpy as np\n",
    "import matplotlib.pyplot as plt\n",
    "import seaborn as sns\n",
    "\n",
    "# Укажем путь к файлам\n",
    "titanic_train_path = '../datasets/titanic/train.csv'\n",
    "titanic_test_path = '../datasets/titanic/test.csv'\n",
    "\n",
    "# Загрузим данные\n",
    "titanic_train = pd.read_csv(titanic_train_path)\n",
    "titanic_test = pd.read_csv(titanic_test_path)\n"
   ]
  },
  {
   "cell_type": "markdown",
   "metadata": {},
   "source": [
    "## Задание 1\n",
    "\n",
    "**Загрузите данные из файла train.csv в DataFrame.**\n",
    "\n",
    "Для чего это нужно: Импорт данных из CSV-файла - это базовая операция при работе с табличными данными, которая часто выполняется в начале анализа данных.\n",
    "\n",
    "Методы и функции для изучения:\n",
    "* `pd.read_csv()` - чтение данных из CSV файла\n",
    "\n",
    "```python\n",
    "# Введите ваш код здесь\n",
    "df = pd.read_csv('../datasets/titanic/train.csv')\n",
    "df\n",
    "```"
   ]
  },
  {
   "cell_type": "code",
   "execution_count": null,
   "metadata": {},
   "outputs": [],
   "source": [
    "# Введите ваш код здесь\n"
   ]
  },
  {
   "cell_type": "markdown",
   "metadata": {},
   "source": [
    "## Задание 2\n",
    "\n",
    "**Выведите общую информацию о DataFrame с помощью метода `info()`.**\n",
    "\n",
    "Для чего это нужно: Метод `info()` дает представление о структуре DataFrame, включая количество строк, столбцов, типы данных и наличие пропущенных значений, что важно для первоначального осмотра данных.\n",
    "\n",
    "Методы и функции для изучения:\n",
    "* `DataFrame.info()` - выводит информацию о DataFrame\n",
    "\n",
    "```python\n",
    "# Введите ваш код здесь\n",
    "info_result = df.info()\n",
    "```"
   ]
  },
  {
   "cell_type": "code",
   "execution_count": null,
   "metadata": {},
   "outputs": [],
   "source": [
    "# Введите ваш код здесь\n"
   ]
  },
  {
   "cell_type": "markdown",
   "metadata": {},
   "source": [
    "## Задание 3\n",
    "\n",
    "**Выведите список названий столбцов DataFrame.**\n",
    "\n",
    "Для чего это нужно: Получение списка столбцов позволяет быстро узнать доступные переменные в датасете, что облегчает дальнейшую работу с ними.\n",
    "\n",
    "Методы и функции для изучения:\n",
    "* `DataFrame.columns` - свойство для получения названий столбцов\n",
    "\n",
    "```python\n",
    "# Введите ваш код здесь\n",
    "columns = df.columns\n",
    "columns\n",
    "```"
   ]
  },
  {
   "cell_type": "code",
   "execution_count": null,
   "metadata": {},
   "outputs": [],
   "source": [
    "# Введите ваш код здесь\n"
   ]
  },
  {
   "cell_type": "markdown",
   "metadata": {},
   "source": [
    "## Задание 4\n",
    "\n",
    "**Выведите основные статистические характеристики числовых данных с помощью метода `describe()`.**\n",
    "\n",
    "Для чего это нужно: Метод `describe()` предоставляет сводную статистику по числовым столбцам, включая среднее значение, стандартное отклонение, минимум, максимум и квартили, что помогает понять распределение данных.\n",
    "\n",
    "Методы и функции для изучения:\n",
    "* `DataFrame.describe()` - возвращает сводную статистику\n",
    "\n",
    "```python\n",
    "# Введите ваш код здесь\n",
    "stats = df.describe()\n",
    "stats\n",
    "```"
   ]
  },
  {
   "cell_type": "code",
   "execution_count": null,
   "metadata": {},
   "outputs": [],
   "source": [
    "# Введите ваш код здесь\n"
   ]
  },
  {
   "cell_type": "markdown",
   "metadata": {},
   "source": [
    "## Задание 5\n",
    "\n",
    "**Проверьте наличие пропущенных значений в каждом столбце.**\n",
    "\n",
    "Для чего это нужно: Пропущенные значения могут влиять на анализ и построение моделей, поэтому важно их выявить на ранних этапах работы с данными.\n",
    "\n",
    "Методы и функции для изучения:\n",
    "* `DataFrame.isnull()` - создает булев DataFrame, где True на месте пропущенных значений\n",
    "* `DataFrame.sum()` - суммирует значения по строкам или столбцам\n",
    "\n",
    "```python\n",
    "# Введите ваш код здесь\n",
    "missing_values = df.isnull().sum()\n",
    "missing_values\n",
    "```"
   ]
  },
  {
   "cell_type": "code",
   "execution_count": null,
   "metadata": {},
   "outputs": [],
   "source": [
    "# Введите ваш код здесь\n"
   ]
  }
 ],
 "metadata": {
  "kernelspec": {
   "display_name": "Python 3",
   "language": "python",
   "name": "python3"
  },
  "language_info": {
   "codemirror_mode": {
    "name": "ipython",
    "version": 3
   },
   "file_extension": ".py",
   "mimetype": "text/x-python",
   "name": "python",
   "nbconvert_exporter": "python",
   "pygments_lexer": "ipython3",
   "version": "3.8.10"
  }
 },
 "nbformat": 4,
 "nbformat_minor": 4
}
