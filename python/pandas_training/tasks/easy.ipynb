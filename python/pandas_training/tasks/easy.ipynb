{
 "cells": [
  {
   "cell_type": "markdown",
   "id": "8d31c6ab",
   "metadata": {},
   "source": [
    "# Тренировка работы с pandas\n",
    "В этом ноутбуке представлены 40 заданий по работе с pandas на основе датасета Titanic."
   ]
  },
  {
   "cell_type": "code",
   "execution_count": null,
   "id": "a8af922c",
   "metadata": {},
   "outputs": [],
   "source": [
    "import pandas as pd\n",
    "import numpy as np"
   ]
  },
  {
   "cell_type": "markdown",
   "id": "161c6ef9",
   "metadata": {},
   "source": [
    "## Задание 1\n",
    "Загрузите датасет Titanic из CSV-файла `train.csv` в переменную `df`. Убедитесь, что данные загружаются в виде DataFrame."
   ]
  },
  {
   "cell_type": "code",
   "execution_count": null,
   "id": "367461f4",
   "metadata": {},
   "outputs": [],
   "source": [
    "# Ваш код здесь"
   ]
  },
  {
   "cell_type": "markdown",
   "id": "afb31625",
   "metadata": {},
   "source": [
    "## Задание 2\n",
    "Получите основную информацию о DataFrame, используя метод `info()`. Сохраните результат в переменную `info_result`."
   ]
  },
  {
   "cell_type": "code",
   "execution_count": null,
   "id": "8693c93d",
   "metadata": {},
   "outputs": [],
   "source": [
    "# Ваш код здесь"
   ]
  },
  {
   "cell_type": "markdown",
   "id": "6c7003a5",
   "metadata": {},
   "source": [
    "## Задание 3\n",
    "Получите список столбцов DataFrame и сохраните его в переменную `columns`."
   ]
  },
  {
   "cell_type": "code",
   "execution_count": null,
   "id": "2890f296",
   "metadata": {},
   "outputs": [],
   "source": [
    "# Ваш код здесь"
   ]
  },
  {
   "cell_type": "markdown",
   "id": "39680d41",
   "metadata": {},
   "source": [
    "## Задание 4\n",
    "Вычислите описательную статистику DataFrame с помощью метода `describe()` и сохраните результат в переменную `stats`."
   ]
  },
  {
   "cell_type": "code",
   "execution_count": null,
   "id": "460474d9",
   "metadata": {},
   "outputs": [],
   "source": [
    "# Ваш код здесь"
   ]
  },
  {
   "cell_type": "markdown",
   "id": "c69c5b02",
   "metadata": {},
   "source": [
    "## Задание 5\n",
    "Подсчитайте количество пропущенных значений в каждом столбце. Результат сохраните в переменную `missing_values`."
   ]
  },
  {
   "cell_type": "code",
   "execution_count": null,
   "id": "4808d4a9",
   "metadata": {},
   "outputs": [],
   "source": [
    "# Ваш код здесь"
   ]
  },
  {
   "cell_type": "markdown",
   "id": "05bff42e",
   "metadata": {},
   "source": [
    "## Задание 6\n",
    "Определите типы данных каждого столбца. Сохраните результат в переменную `dtypes`."
   ]
  },
  {
   "cell_type": "code",
   "execution_count": null,
   "id": "ef9cedca",
   "metadata": {},
   "outputs": [],
   "source": [
    "# Ваш код здесь"
   ]
  },
  {
   "cell_type": "markdown",
   "id": "c417d6e2",
   "metadata": {},
   "source": [
    "## Задание 7\n",
    "Выберите несколько (не все) столбцов из DataFrame и сохраните их в переменную `selected_columns`."
   ]
  },
  {
   "cell_type": "code",
   "execution_count": null,
   "id": "4d4adf0c",
   "metadata": {},
   "outputs": [],
   "source": [
    "# Ваш код здесь"
   ]
  },
  {
   "cell_type": "markdown",
   "id": "e113e7ad",
   "metadata": {},
   "source": [
    "## Задание 8\n",
    "Выведите первые и последние строки таблицы с помощью методов `head()` и `tail()`. Сохраните их в переменные `head_rows` и `tail_rows`."
   ]
  },
  {
   "cell_type": "code",
   "execution_count": null,
   "id": "5984bd61",
   "metadata": {},
   "outputs": [],
   "source": [
    "# Ваш код здесь"
   ]
  },
  {
   "cell_type": "markdown",
   "id": "733e6524",
   "metadata": {},
   "source": [
    "## Задание 9\n",
    "Получите случайную выборку строк из DataFrame. Сохраните результат в переменную `sample_df`."
   ]
  },
  {
   "cell_type": "code",
   "execution_count": null,
   "id": "1f380aa9",
   "metadata": {},
   "outputs": [],
   "source": [
    "# Ваш код здесь"
   ]
  },
  {
   "cell_type": "markdown",
   "id": "c2252e63",
   "metadata": {},
   "source": [
    "## Задание 10\n",
    "Получите уникальные значения из одного из столбцов (например, 'Sex') и сохраните в переменную `unique_values`."
   ]
  },
  {
   "cell_type": "code",
   "execution_count": null,
   "id": "692b2b05",
   "metadata": {},
   "outputs": [],
   "source": [
    "# Ваш код здесь"
   ]
  },
  {
   "cell_type": "markdown",
   "id": "7d0bd708",
   "metadata": {},
   "source": [
    "## Задание 11\n",
    "Подсчитайте частоту значений в одном из столбцов (например, 'Pclass') и сохраните результат в переменную `value_counts`."
   ]
  },
  {
   "cell_type": "code",
   "execution_count": null,
   "id": "1f968a32",
   "metadata": {},
   "outputs": [],
   "source": [
    "# Ваш код здесь"
   ]
  },
  {
   "cell_type": "markdown",
   "id": "ee996c16",
   "metadata": {},
   "source": [
    "## Задание 12\n",
    "Отфильтруйте строки DataFrame по значению в одном из столбцов (например, пассажиры класса 1). Результат сохраните в `filtered_df`."
   ]
  },
  {
   "cell_type": "code",
   "execution_count": null,
   "id": "4ce40311",
   "metadata": {},
   "outputs": [],
   "source": [
    "# Ваш код здесь"
   ]
  },
  {
   "cell_type": "markdown",
   "id": "d32c528c",
   "metadata": {},
   "source": [
    "## Задание 13\n",
    "Примените сразу несколько фильтров (например, пассажиры женского пола старше 30 лет). Сохраните результат в `multi_filtered_df`."
   ]
  },
  {
   "cell_type": "code",
   "execution_count": null,
   "id": "755bb566",
   "metadata": {},
   "outputs": [],
   "source": [
    "# Ваш код здесь"
   ]
  },
  {
   "cell_type": "markdown",
   "id": "e81b0912",
   "metadata": {},
   "source": [
    "## Задание 14\n",
    "Отсортируйте DataFrame по одному из числовых столбцов (например, 'Fare'). Сохраните результат в `sorted_df`."
   ]
  },
  {
   "cell_type": "code",
   "execution_count": null,
   "id": "65bdd9fc",
   "metadata": {},
   "outputs": [],
   "source": [
    "# Ваш код здесь"
   ]
  },
  {
   "cell_type": "markdown",
   "id": "66b56a2c",
   "metadata": {},
   "source": [
    "## Задание 15\n",
    "Сбросьте индекс в DataFrame и сохраните результат в `reset_index_df`."
   ]
  },
  {
   "cell_type": "code",
   "execution_count": null,
   "id": "268a641a",
   "metadata": {},
   "outputs": [],
   "source": [
    "# Ваш код здесь"
   ]
  },
  {
   "cell_type": "markdown",
   "id": "dc11688a",
   "metadata": {},
   "source": [
    "## Задание 16\n",
    "Переименуйте хотя бы один столбец (например, 'Sex' на 'Gender'). Сохраните изменённый DataFrame в переменную `renamed_df`."
   ]
  },
  {
   "cell_type": "code",
   "execution_count": null,
   "id": "109b1a4e",
   "metadata": {},
   "outputs": [],
   "source": [
    "# Ваш код здесь"
   ]
  },
  {
   "cell_type": "markdown",
   "id": "34e87639",
   "metadata": {},
   "source": [
    "## Задание 17\n",
    "Добавьте новый столбец в DataFrame, основанный на вычислениях (например, удвоенное значение Fare). Сохраните результат в `calculated_df`."
   ]
  },
  {
   "cell_type": "code",
   "execution_count": null,
   "id": "40298de1",
   "metadata": {},
   "outputs": [],
   "source": [
    "# Ваш код здесь"
   ]
  },
  {
   "cell_type": "markdown",
   "id": "48ad4068",
   "metadata": {},
   "source": [
    "## Задание 18\n",
    "Примените функцию к значениям одного из столбцов с помощью метода `apply()`. Сохраните результат в `applied_df`."
   ]
  },
  {
   "cell_type": "code",
   "execution_count": null,
   "id": "b079c37e",
   "metadata": {},
   "outputs": [],
   "source": [
    "# Ваш код здесь"
   ]
  },
  {
   "cell_type": "markdown",
   "id": "760c65bd",
   "metadata": {},
   "source": [
    "## Задание 19\n",
    "Выведите описательную статистику для одного столбца (например, 'Age') и сохраните в переменную `column_stats`."
   ]
  },
  {
   "cell_type": "code",
   "execution_count": null,
   "id": "1499e235",
   "metadata": {},
   "outputs": [],
   "source": [
    "# Ваш код здесь"
   ]
  },
  {
   "cell_type": "markdown",
   "id": "a9d1e3f7",
   "metadata": {},
   "source": [
    "## Задание 20\n",
    "Сгруппируйте данные по какому-либо признаку и посчитайте количество элементов в каждой группе (например, по 'Embarked'). Сохраните результат в `group_counts`."
   ]
  },
  {
   "cell_type": "code",
   "execution_count": null,
   "id": "2a1caca7",
   "metadata": {},
   "outputs": [],
   "source": [
    "# Ваш код здесь"
   ]
  },
  {
   "cell_type": "markdown",
   "id": "d2905cfd",
   "metadata": {},
   "source": [
    "## Задание 21\n",
    "Создайте маску, указывающую на пропущенные значения с помощью метода `isnull()`. Сохраните результат в `null_mask`."
   ]
  },
  {
   "cell_type": "code",
   "execution_count": null,
   "id": "20687a00",
   "metadata": {},
   "outputs": [],
   "source": [
    "# Ваш код здесь"
   ]
  },
  {
   "cell_type": "markdown",
   "id": "a9dcc52c",
   "metadata": {},
   "source": [
    "## Задание 22\n",
    "Удалите один или несколько столбцов из DataFrame. Результат сохраните в переменной `dropped_df`."
   ]
  },
  {
   "cell_type": "code",
   "execution_count": null,
   "id": "368dce7e",
   "metadata": {},
   "outputs": [],
   "source": [
    "# Ваш код здесь"
   ]
  },
  {
   "cell_type": "markdown",
   "id": "637d9573",
   "metadata": {},
   "source": [
    "## Задание 23\n",
    "Удалите дубликаты из DataFrame с помощью метода `drop_duplicates()`. Сохраните результат в `no_duplicates_df`."
   ]
  },
  {
   "cell_type": "code",
   "execution_count": null,
   "id": "fb2138de",
   "metadata": {},
   "outputs": [],
   "source": [
    "# Ваш код здесь"
   ]
  },
  {
   "cell_type": "markdown",
   "id": "c2892833",
   "metadata": {},
   "source": [
    "## Задание 24\n",
    "Отфильтруйте строки с помощью метода `query()`. Сохраните результат в переменную `query_result`."
   ]
  },
  {
   "cell_type": "code",
   "execution_count": null,
   "id": "89d614a0",
   "metadata": {},
   "outputs": [],
   "source": [
    "# Ваш код здесь"
   ]
  },
  {
   "cell_type": "markdown",
   "id": "5bdcc189",
   "metadata": {},
   "source": [
    "## Задание 25\n",
    "Используйте булеву индексацию для фильтрации данных. Результат сохраните в переменную `boolean_index_result`."
   ]
  },
  {
   "cell_type": "code",
   "execution_count": null,
   "id": "d9632dde",
   "metadata": {},
   "outputs": [],
   "source": [
    "# Ваш код здесь"
   ]
  },
  {
   "cell_type": "markdown",
   "id": "a973fa94",
   "metadata": {},
   "source": [
    "## Задание 26\n",
    "Преобразуйте типы данных в одном или нескольких столбцах с помощью метода `astype()`. Сохраните результат в `converted_df`."
   ]
  },
  {
   "cell_type": "code",
   "execution_count": null,
   "id": "309ea54a",
   "metadata": {},
   "outputs": [],
   "source": [
    "# Ваш код здесь"
   ]
  },
  {
   "cell_type": "markdown",
   "id": "09f79903",
   "metadata": {},
   "source": [
    "## Задание 27\n",
    "Преобразуйте один или несколько столбцов в категориальный тип данных. Сохраните результат в `categorical_df`."
   ]
  },
  {
   "cell_type": "code",
   "execution_count": null,
   "id": "d0b334f4",
   "metadata": {},
   "outputs": [],
   "source": [
    "# Ваш код здесь"
   ]
  },
  {
   "cell_type": "markdown",
   "id": "a4424d21",
   "metadata": {},
   "source": [
    "## Задание 28\n",
    "Проверьте наличие дубликатов строк с помощью метода `duplicated()`. Сохраните булеву маску в переменную `duplicates_mask`."
   ]
  },
  {
   "cell_type": "code",
   "execution_count": null,
   "id": "6a18a0df",
   "metadata": {},
   "outputs": [],
   "source": [
    "# Ваш код здесь"
   ]
  },
  {
   "cell_type": "markdown",
   "id": "9c1375c9",
   "metadata": {},
   "source": [
    "## Задание 29\n",
    "Используйте `loc` для доступа к данным (например, выбор строк по меткам). Сохраните результат в `loc_result`."
   ]
  },
  {
   "cell_type": "code",
   "execution_count": null,
   "id": "64c0bf27",
   "metadata": {},
   "outputs": [],
   "source": [
    "# Ваш код здесь"
   ]
  },
  {
   "cell_type": "markdown",
   "id": "76a10e70",
   "metadata": {},
   "source": [
    "## Задание 30\n",
    "Используйте `iloc` для доступа к данным (например, выбор строк по индексам). Сохраните результат в `iloc_result`."
   ]
  },
  {
   "cell_type": "code",
   "execution_count": null,
   "id": "444574e0",
   "metadata": {},
   "outputs": [],
   "source": [
    "# Ваш код здесь"
   ]
  },
  {
   "cell_type": "markdown",
   "id": "4531c6d8",
   "metadata": {},
   "source": [
    "## Задание 31\n",
    "Округлите значения в числовых столбцах до целых чисел с помощью метода `round()`. Сохраните результат в `rounded_df`."
   ]
  },
  {
   "cell_type": "code",
   "execution_count": null,
   "id": "61f30e91",
   "metadata": {},
   "outputs": [],
   "source": [
    "# Ваш код здесь"
   ]
  },
  {
   "cell_type": "markdown",
   "id": "a3675ced",
   "metadata": {},
   "source": [
    "## Задание 32\n",
    "Создайте копию DataFrame с помощью метода `copy()`. Сохраните результат в `df_copy`."
   ]
  },
  {
   "cell_type": "code",
   "execution_count": null,
   "id": "9f13075f",
   "metadata": {},
   "outputs": [],
   "source": [
    "# Ваш код здесь"
   ]
  },
  {
   "cell_type": "markdown",
   "id": "e64c4240",
   "metadata": {},
   "source": [
    "## Задание 33\n",
    "Преобразуйте DataFrame в массив NumPy. Сохраните результат в `numpy_array`."
   ]
  },
  {
   "cell_type": "code",
   "execution_count": null,
   "id": "ff274824",
   "metadata": {},
   "outputs": [],
   "source": [
    "# Ваш код здесь"
   ]
  },
  {
   "cell_type": "markdown",
   "id": "00a9aa28",
   "metadata": {},
   "source": [
    "## Задание 34\n",
    "Замените значения в одном из столбцов (например, 'male' на 'M', 'female' на 'F'). Сохраните результат в `replaced_df`."
   ]
  },
  {
   "cell_type": "code",
   "execution_count": null,
   "id": "5d685c0e",
   "metadata": {},
   "outputs": [],
   "source": [
    "# Ваш код здесь"
   ]
  },
  {
   "cell_type": "markdown",
   "id": "36eff583",
   "metadata": {},
   "source": [
    "## Задание 35\n",
    "Получите размерность DataFrame с помощью свойства `shape`. Сохраните результат в `df_shape`."
   ]
  },
  {
   "cell_type": "code",
   "execution_count": null,
   "id": "f23e7239",
   "metadata": {},
   "outputs": [],
   "source": [
    "# Ваш код здесь"
   ]
  },
  {
   "cell_type": "markdown",
   "id": "496dbb91",
   "metadata": {},
   "source": [
    "## Задание 36\n",
    "Используйте метод `between()` для фильтрации строк по диапазону значений. Сохраните результат в `between_result`."
   ]
  },
  {
   "cell_type": "code",
   "execution_count": null,
   "id": "4f00eaff",
   "metadata": {},
   "outputs": [],
   "source": [
    "# Ваш код здесь"
   ]
  },
  {
   "cell_type": "markdown",
   "id": "b1073b0c",
   "metadata": {},
   "source": [
    "## Задание 37\n",
    "Добавьте новый столбец в DataFrame с произвольными данными. Сохраните результат в `df_with_new_column`."
   ]
  },
  {
   "cell_type": "code",
   "execution_count": null,
   "id": "e34ce8f6",
   "metadata": {},
   "outputs": [],
   "source": [
    "# Ваш код здесь"
   ]
  },
  {
   "cell_type": "markdown",
   "id": "735825f6",
   "metadata": {},
   "source": [
    "## Задание 38\n",
    "Примените строковые методы (например, `str.lower()` или `str.contains()`) к одному из текстовых столбцов. Сохраните результат в `string_processed_df`."
   ]
  },
  {
   "cell_type": "code",
   "execution_count": null,
   "id": "cbd21fa0",
   "metadata": {},
   "outputs": [],
   "source": [
    "# Ваш код здесь"
   ]
  },
  {
   "cell_type": "markdown",
   "id": "69b78aa8",
   "metadata": {},
   "source": [
    "## Задание 39\n",
    "Сохраните DataFrame в CSV-файл с помощью метода `to_csv()`. Убедитесь, что файл сохранился. Можно сохранить флаг в переменную `csv_saved = True`."
   ]
  },
  {
   "cell_type": "code",
   "execution_count": null,
   "id": "d645d79e",
   "metadata": {},
   "outputs": [],
   "source": [
    "# Ваш код здесь"
   ]
  },
  {
   "cell_type": "markdown",
   "id": "59432cdf",
   "metadata": {},
   "source": [
    "## Задание 40\n",
    "Оцените объём памяти, занимаемый DataFrame, с помощью метода `memory_usage()` или `memory_usage(deep=True)`. Сохраните результат в переменную `memory_usage`."
   ]
  },
  {
   "cell_type": "code",
   "execution_count": null,
   "id": "4ac0494c",
   "metadata": {},
   "outputs": [],
   "source": [
    "# Ваш код здесь"
   ]
  }
 ],
 "metadata": {},
 "nbformat": 4,
 "nbformat_minor": 5
}
