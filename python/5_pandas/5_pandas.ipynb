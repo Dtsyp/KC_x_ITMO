{
 "cells": [
  {
   "metadata": {
    "ExecuteTime": {
     "end_time": "2025-04-07T15:30:23.206969Z",
     "start_time": "2025-04-07T15:30:22.713332Z"
    }
   },
   "cell_type": "code",
   "source": [
    "from os import rename\n",
    "\n",
    "import pandas as pd\n",
    "from pandas.core.algorithms import nunique_ints\n",
    "\n",
    "df = pd.read_csv('../datasets/6_pandas_data.csv')\n",
    "\n",
    "# Описание данных\n",
    "print(df.info())\n",
    "print(df.head())\n",
    "print(df.describe())\n",
    "print(df.dtypes)"
   ],
   "id": "f3529a2aa27a152c",
   "outputs": [
    {
     "name": "stdout",
     "output_type": "stream",
     "text": [
      "<class 'pandas.core.frame.DataFrame'>\n",
      "RangeIndex: 77260 entries, 0 to 77259\n",
      "Data columns (total 16 columns):\n",
      " #   Column             Non-Null Count  Dtype  \n",
      "---  ------             --------------  -----  \n",
      " 0   id                 77260 non-null  object \n",
      " 1   address            77260 non-null  object \n",
      " 2   categories         77260 non-null  object \n",
      " 3   city               77260 non-null  object \n",
      " 4   cuisines           38384 non-null  object \n",
      " 5   dateAdded          77260 non-null  object \n",
      " 6   dateUpdated        77260 non-null  object \n",
      " 7   latitude           55636 non-null  float64\n",
      " 8   longitude          55636 non-null  float64\n",
      " 9   menus.category     3729 non-null   object \n",
      " 10  menus.currency     40511 non-null  object \n",
      " 11  menus.dateSeen     77260 non-null  object \n",
      " 12  menus.description  29323 non-null  object \n",
      " 13  menus.name         77260 non-null  object \n",
      " 14  name               77257 non-null  object \n",
      " 15  province           77257 non-null  object \n",
      "dtypes: float64(2), object(14)\n",
      "memory usage: 9.4+ MB\n",
      "None\n",
      "                     id                   address  \\\n",
      "0  AVwc__cikufWRAb51QjV         610 Commercial St   \n",
      "1  AVwc__cikufWRAb51QjV         610 Commercial St   \n",
      "2  AVwc__dF_7pvs4fz1Ncy      9521 Morton Davis Dr   \n",
      "3  AVwc__kCByjofQCxkdm-  10550 W I 25 Frontage Rd   \n",
      "4  AVwc__WtByjofQCxkdkR             8495 W 3rd St   \n",
      "\n",
      "                                          categories         city  \\\n",
      "0  Restaurant Delivery Service,Restaurants,Pizza,...     Atchison   \n",
      "1  Restaurant Delivery Service,Restaurants,Pizza,...     Atchison   \n",
      "2       Golf Course, American Restaurant, and Resort    Patterson   \n",
      "3                               Fast Food Restaurant     Longmont   \n",
      "4  Mexican Restaurant Mid-City West,Mexican Resta...  Los Angeles   \n",
      "\n",
      "                      cuisines             dateAdded           dateUpdated  \\\n",
      "0  Restaurant Delivery Service  2016-03-02T11:49:34Z  2017-02-01T18:04:44Z   \n",
      "1  Restaurant Delivery Service  2016-03-02T11:49:34Z  2017-02-01T18:04:44Z   \n",
      "2                          NaN  2016-10-14T01:58:25Z  2016-10-14T01:58:25Z   \n",
      "3                          NaN  2016-09-09T17:30:34Z  2016-10-04T05:15:17Z   \n",
      "4                      Mexican  2016-05-19T11:50:25Z  2016-09-11T00:06:37Z   \n",
      "\n",
      "    latitude   longitude menus.category menus.currency        menus.dateSeen  \\\n",
      "0  39.561570  -95.121020            NaN            NaN  2017-02-01T18:04:44Z   \n",
      "1  39.561570  -95.121020            NaN            NaN  2016-03-02T11:49:34Z   \n",
      "2  37.401855 -121.266703            NaN            NaN  2016-10-14T01:58:25Z   \n",
      "3        NaN         NaN            NaN            NaN  2016-09-09T17:30:34Z   \n",
      "4  34.080724 -118.389578            NaN            NaN  2016-05-19T11:50:25Z   \n",
      "\n",
      "                                   menus.description         menus.name  \\\n",
      "0                                                NaN               Taco   \n",
      "1  Beef, onion, cheddar cheese, lettuce,  refried...               Taco   \n",
      "2  Beef barbacoa or chicken, spanish rice, pico d...   Smotherd Burrito   \n",
      "3                                                NaN    Sausage Burrito   \n",
      "4  Wahoo, avocado, cabbage, pico de gallo  and av...  Wahoo Tacogrilled   \n",
      "\n",
      "                                name      province  \n",
      "0                    Gambino's Pizza            KS  \n",
      "1                    Gambino's Pizza            KS  \n",
      "2  Diablo Grande Golf & Country Club       Grayson  \n",
      "3                         Mcdonald's         Niwot  \n",
      "4           Baja Fresh Mexican Grill  Bicentennial  \n",
      "           latitude     longitude\n",
      "count  55636.000000  55636.000000\n",
      "mean      36.694846    -98.713309\n",
      "std        4.835124     18.245857\n",
      "min      -31.986438   -159.492690\n",
      "25%       33.668355   -117.647150\n",
      "50%       36.047195    -96.682320\n",
      "75%       40.588380    -82.679930\n",
      "max       61.219460    115.903696\n",
      "id                    object\n",
      "address               object\n",
      "categories            object\n",
      "city                  object\n",
      "cuisines              object\n",
      "dateAdded             object\n",
      "dateUpdated           object\n",
      "latitude             float64\n",
      "longitude            float64\n",
      "menus.category        object\n",
      "menus.currency        object\n",
      "menus.dateSeen        object\n",
      "menus.description     object\n",
      "menus.name            object\n",
      "name                  object\n",
      "province              object\n",
      "dtype: object\n"
     ]
    }
   ],
   "execution_count": 1
  },
  {
   "metadata": {},
   "cell_type": "markdown",
   "source": [
    "## Описание данных:\n",
    "\n",
    "- `id` - уникальный идентификатор заведения\n",
    "- `address` - физический адрес заведения\n",
    "- `categories` - категории заведения (например, \"Fast food restaurant\").\n",
    "- `city` - город, в котором заведение находится.\n",
    "- `cuisines` - кухни, которые практикуются в заведении. Например \"Mexican\".\n",
    "- `dateAdded` - дата добавления записи. Будем считать, что она совпадает с датой открытия заведения.\n",
    "- `dateUpdated` - дата обновления информации о заведении.\n",
    "- `latitude` - географическая широта.\n",
    "- `longitude` - географическая долгота.\n",
    "- `menus.category` - категории пищи в меню.\n",
    "- `menus.currency` - валюта, в которой принимают оплату.\n",
    "- `menus.dateSeen` - дата, когда было заведено это меню.\n",
    "- `menus.description` - описание меню от заведения.\n",
    "- `menus.name` - название меню.\n",
    "- `name` - название заведения.\n",
    "- `province` - область (штат), где находится заведение."
   ],
   "id": "56f7408f3b6b7f4"
  },
  {
   "metadata": {
    "ExecuteTime": {
     "end_time": "2025-04-07T15:30:23.252849Z",
     "start_time": "2025-04-07T15:30:23.221841Z"
    }
   },
   "cell_type": "code",
   "source": [
    "# Посмотрим сколько пропущенных данных\n",
    "# print(df.isna().sum())\n",
    "\n",
    "#  Удалим пропуски\n",
    "print(df.dropna().info())\n",
    "# print(df.info())\n",
    "# df = df.dropna()\n",
    "# print(df.info())\n",
    "\n",
    "print(f\"Indexes in California {df.index[df[\"city\"] == \"California\"].tolist()}\")\n",
    "print(f\"Indexes in California and name = Taco Bell {df.index[(df['categories'] == \"Taco Bell\") & (df[\"city\"] == \"California\")].tolist()}\")"
   ],
   "id": "592b689292775405",
   "outputs": [
    {
     "name": "stdout",
     "output_type": "stream",
     "text": [
      "<class 'pandas.core.frame.DataFrame'>\n",
      "Index: 1925 entries, 72 to 77014\n",
      "Data columns (total 16 columns):\n",
      " #   Column             Non-Null Count  Dtype  \n",
      "---  ------             --------------  -----  \n",
      " 0   id                 1925 non-null   object \n",
      " 1   address            1925 non-null   object \n",
      " 2   categories         1925 non-null   object \n",
      " 3   city               1925 non-null   object \n",
      " 4   cuisines           1925 non-null   object \n",
      " 5   dateAdded          1925 non-null   object \n",
      " 6   dateUpdated        1925 non-null   object \n",
      " 7   latitude           1925 non-null   float64\n",
      " 8   longitude          1925 non-null   float64\n",
      " 9   menus.category     1925 non-null   object \n",
      " 10  menus.currency     1925 non-null   object \n",
      " 11  menus.dateSeen     1925 non-null   object \n",
      " 12  menus.description  1925 non-null   object \n",
      " 13  menus.name         1925 non-null   object \n",
      " 14  name               1925 non-null   object \n",
      " 15  province           1925 non-null   object \n",
      "dtypes: float64(2), object(14)\n",
      "memory usage: 255.7+ KB\n",
      "None\n",
      "Indexes in California [40483, 52930, 52931, 52932, 52933, 52934, 52935, 52936, 52937, 52938, 52939, 65070]\n",
      "Indexes in California and name = Taco Bell []\n"
     ]
    }
   ],
   "execution_count": 2
  },
  {
   "metadata": {
    "ExecuteTime": {
     "end_time": "2025-04-07T15:30:23.343870Z",
     "start_time": "2025-04-07T15:30:23.330592Z"
    }
   },
   "cell_type": "code",
   "source": "print(df[((df['name'] == 'Taco Bell') | (df['city'] == 'New York')) & ~((df['menus.name'] == 'Volcano Taco') | (df['menus.name'] == 'Fresco Soft Taco'))])",
   "id": "db4234ba5dc5f9c6",
   "outputs": [
    {
     "name": "stdout",
     "output_type": "stream",
     "text": [
      "                         id          address  \\\n",
      "131    AVwc_9yCByjofQCxkdRX  322 S. Broadway   \n",
      "132    AVwc_9yCByjofQCxkdRX  322 S. Broadway   \n",
      "133    AVwc_9yCByjofQCxkdRX  322 S. Broadway   \n",
      "135    AVwc_9yCByjofQCxkdRX  322 S. Broadway   \n",
      "136    AVwc_9yCByjofQCxkdRX  322 S. Broadway   \n",
      "...                     ...              ...   \n",
      "76904  AVweZN9nByjofQCxxz4o    754 Ninth Ave   \n",
      "76905  AVweZN9nByjofQCxxz4o    754 Ninth Ave   \n",
      "76906  AVweZN9nByjofQCxxz4o    754 Ninth Ave   \n",
      "76907  AVweZN9nByjofQCxxz4o    754 Ninth Ave   \n",
      "76908  AVweZN9nByjofQCxxz4o    754 Ninth Ave   \n",
      "\n",
      "                                              categories      city  \\\n",
      "131    Fast Food,Restaurants,Mexican,Breakfast,Vegeta...     Salem   \n",
      "132    Fast Food,Restaurants,Mexican,Breakfast,Vegeta...     Salem   \n",
      "133    Fast Food,Restaurants,Mexican,Breakfast,Vegeta...     Salem   \n",
      "135    Fast Food,Restaurants,Mexican,Breakfast,Vegeta...     Salem   \n",
      "136    Fast Food,Restaurants,Mexican,Breakfast,Vegeta...     Salem   \n",
      "...                                                  ...       ...   \n",
      "76904                                         Restaurant  New York   \n",
      "76905                                         Restaurant  New York   \n",
      "76906                                         Restaurant  New York   \n",
      "76907                                         Restaurant  New York   \n",
      "76908                                         Restaurant  New York   \n",
      "\n",
      "                                     cuisines             dateAdded  \\\n",
      "131                                   Mexican  2016-03-28T06:01:51Z   \n",
      "132                                   Mexican  2016-03-28T06:01:51Z   \n",
      "133                                   Mexican  2016-03-28T06:01:51Z   \n",
      "135                                   Mexican  2016-03-28T06:01:51Z   \n",
      "136                                   Mexican  2016-03-28T06:01:51Z   \n",
      "...                                       ...                   ...   \n",
      "76904  Mexican, American, Traditional Mexican  2015-10-19T20:44:15Z   \n",
      "76905  Mexican, American, Traditional Mexican  2015-10-19T20:44:15Z   \n",
      "76906  Mexican, American, Traditional Mexican  2015-10-19T20:44:15Z   \n",
      "76907  Mexican, American, Traditional Mexican  2015-10-19T20:44:15Z   \n",
      "76908  Mexican, American, Traditional Mexican  2015-10-19T20:44:15Z   \n",
      "\n",
      "                dateUpdated   latitude  longitude menus.category  \\\n",
      "131    2017-06-27T10:01:48Z  42.755023 -71.209440            NaN   \n",
      "132    2017-06-27T10:01:48Z  42.755023 -71.209440            NaN   \n",
      "133    2017-06-27T10:01:48Z  42.755023 -71.209440            NaN   \n",
      "135    2017-06-27T10:01:48Z  42.755023 -71.209440            NaN   \n",
      "136    2017-06-27T10:01:48Z  42.755023 -71.209440            NaN   \n",
      "...                     ...        ...        ...            ...   \n",
      "76904  2016-08-22T11:24:07Z  40.763858 -73.988327          Tacos   \n",
      "76905  2016-08-22T11:24:07Z  40.763858 -73.988327   Huevos, Etc.   \n",
      "76906  2016-08-22T11:24:07Z  40.763858 -73.988327        Botanas   \n",
      "76907  2016-08-22T11:24:07Z  40.763858 -73.988327        Botanas   \n",
      "76908  2016-08-22T11:24:07Z  40.763858 -73.988327           Main   \n",
      "\n",
      "      menus.currency                             menus.dateSeen  \\\n",
      "131              NaN  2016-03-28T06:01:51Z,2016-06-06T16:15:44Z   \n",
      "132              NaN  2016-03-28T06:01:51Z,2016-06-06T16:15:44Z   \n",
      "133              NaN  2016-03-28T06:01:51Z,2016-06-06T16:15:44Z   \n",
      "135              NaN  2016-03-28T06:01:51Z,2016-06-06T16:15:44Z   \n",
      "136              NaN  2016-03-28T06:01:51Z,2016-06-06T16:15:44Z   \n",
      "...              ...                                        ...   \n",
      "76904            USD                       2016-08-21T00:00:00Z   \n",
      "76905            USD                       2016-08-07T00:00:00Z   \n",
      "76906            USD                       2016-08-07T00:00:00Z   \n",
      "76907            USD                       2016-08-07T00:00:00Z   \n",
      "76908            NaN                       2016-08-21T00:00:00Z   \n",
      "\n",
      "                 menus.description                      menus.name  \\\n",
      "131                            NaN                 Volcano Burrito   \n",
      "132                            NaN                    Taco 12 Pack   \n",
      "133                            NaN         Grilled Steak Soft Taco   \n",
      "135                            NaN  Fresco Grilled Steak Soft Taco   \n",
      "136                            NaN             Fresco Crunchy Taco   \n",
      "...                            ...                             ...   \n",
      "76904                          NaN                   Trio of Tacos   \n",
      "76905                          NaN                  Brunch Burrito   \n",
      "76906                          NaN    Grilled Chicken Mini Burrito   \n",
      "76907  with pumpkin seed guacamole  Grilled Vegetable Mini Burrito   \n",
      "76908                          NaN                        Burritos   \n",
      "\n",
      "                 name province  \n",
      "131         Taco Bell       NH  \n",
      "132         Taco Bell       NH  \n",
      "133         Taco Bell       NH  \n",
      "135         Taco Bell       NH  \n",
      "136         Taco Bell       NH  \n",
      "...               ...      ...  \n",
      "76904  Hell's Kitchen      Nyc  \n",
      "76905  Hell's Kitchen      Nyc  \n",
      "76906  Hell's Kitchen      Nyc  \n",
      "76907  Hell's Kitchen      Nyc  \n",
      "76908  Hell's Kitchen      Nyc  \n",
      "\n",
      "[3756 rows x 16 columns]\n"
     ]
    }
   ],
   "execution_count": 3
  },
  {
   "metadata": {
    "ExecuteTime": {
     "end_time": "2025-04-07T15:30:23.358470Z",
     "start_time": "2025-04-07T15:30:23.348670Z"
    }
   },
   "cell_type": "code",
   "source": "print(df[~(df['menus.currency'].isna())])",
   "id": "f77ddb831e95fe3",
   "outputs": [
    {
     "name": "stdout",
     "output_type": "stream",
     "text": [
      "                         id           address  \\\n",
      "15     AVwc_1y6kufWRAb51O6w   906 Park Ave SW   \n",
      "16     AVwc_1y6kufWRAb51O6w   906 Park Ave SW   \n",
      "17     AVwc_1y6kufWRAb51O6w   906 Park Ave SW   \n",
      "18     AVwc_2OQ_7pvs4fz1L5H  100 W Higgins Rd   \n",
      "19     AVwc_2OQ_7pvs4fz1L5H  100 W Higgins Rd   \n",
      "...                     ...               ...   \n",
      "77255  AVzRLlQNLD2H7whiWdH_     3919 24th St.   \n",
      "77256  AVzRLlQNLD2H7whiWdH_     3919 24th St.   \n",
      "77257  AVzRLlQNLD2H7whiWdH_     3919 24th St.   \n",
      "77258  AVzRLlQNLD2H7whiWdH_     3919 24th St.   \n",
      "77259  AVzRLlQNLD2H7whiWdH_     3919 24th St.   \n",
      "\n",
      "                                 categories           city  \\\n",
      "15     Coffee Shop,Restaurants,Coffeehouses    Albuquerque   \n",
      "16     Coffee Shop,Restaurants,Coffeehouses    Albuquerque   \n",
      "17     Coffee Shop,Restaurants,Coffeehouses    Albuquerque   \n",
      "18                               Restaurant     Barrington   \n",
      "19                               Restaurant     Barrington   \n",
      "...                                     ...            ...   \n",
      "77255                            Restaurant  San Francisco   \n",
      "77256                            Restaurant  San Francisco   \n",
      "77257                            Restaurant  San Francisco   \n",
      "77258                            Restaurant  San Francisco   \n",
      "77259                            Restaurant  San Francisco   \n",
      "\n",
      "                      cuisines             dateAdded           dateUpdated  \\\n",
      "15                Coffee Shops  2016-06-05T20:15:56Z  2017-07-06T13:28:29Z   \n",
      "16                Coffee Shops  2016-06-05T20:15:56Z  2017-07-06T13:28:29Z   \n",
      "17                Coffee Shops  2016-06-05T20:15:56Z  2017-07-06T13:28:29Z   \n",
      "18     Mexican, Latin American  2016-07-26T17:39:41Z  2016-08-26T05:25:56Z   \n",
      "19     Mexican, Latin American  2016-07-26T17:39:41Z  2016-08-26T05:25:56Z   \n",
      "...                        ...                   ...                   ...   \n",
      "77255                  Mexican  2017-06-22T19:01:33Z  2017-06-22T19:01:33Z   \n",
      "77256                  Mexican  2017-06-22T19:01:33Z  2017-06-22T19:01:33Z   \n",
      "77257                  Mexican  2017-06-22T19:01:33Z  2017-06-22T19:01:33Z   \n",
      "77258                  Mexican  2017-06-22T19:01:33Z  2017-06-22T19:01:33Z   \n",
      "77259                  Mexican  2017-06-22T19:01:33Z  2017-06-22T19:01:33Z   \n",
      "\n",
      "        latitude   longitude menus.category menus.currency  \\\n",
      "15     35.085320 -106.657616            NaN            USD   \n",
      "16     35.085320 -106.657616            NaN            USD   \n",
      "17     35.085320 -106.657616            NaN            USD   \n",
      "18     42.074974  -88.189151            NaN            USD   \n",
      "19     42.074974  -88.189151            NaN            USD   \n",
      "...          ...         ...            ...            ...   \n",
      "77255  37.751392 -122.430180            NaN            USD   \n",
      "77256  37.751392 -122.430180            NaN            USD   \n",
      "77257  37.751392 -122.430180            NaN            USD   \n",
      "77258  37.751392 -122.430180            NaN            USD   \n",
      "77259  37.751392 -122.430180            NaN            USD   \n",
      "\n",
      "                                  menus.dateSeen  \\\n",
      "15     2016-06-05T20:15:56Z,2016-10-20T07:09:38Z   \n",
      "16     2016-06-05T20:15:56Z,2016-10-20T07:09:38Z   \n",
      "17     2016-06-05T20:15:56Z,2016-10-20T07:09:38Z   \n",
      "18                          2016-08-22T00:00:00Z   \n",
      "19                          2016-08-22T00:00:00Z   \n",
      "...                                          ...   \n",
      "77255                   2017-06-22T16:40:06.448Z   \n",
      "77256                   2017-06-22T16:40:06.448Z   \n",
      "77257                   2017-06-22T16:40:06.448Z   \n",
      "77258                   2017-06-22T16:40:06.448Z   \n",
      "77259                   2017-06-22T16:40:06.448Z   \n",
      "\n",
      "                                       menus.description  \\\n",
      "15     Potatoes, onion, peppers, mushroom, avocado, b...   \n",
      "16     Grilled tofu, potatoes and your choice of chil...   \n",
      "17                                                   NaN   \n",
      "18                                                   NaN   \n",
      "19     lettuce, chihuahua cheese, black beans, mexica...   \n",
      "...                                                  ...   \n",
      "77255  meat, rice, beans, guacamole, sour cream, chee...   \n",
      "77256                 melted cheese, rice, beans & salsa   \n",
      "77257                                       meat & salsa   \n",
      "77258                          meat, rice, beans & salsa   \n",
      "77259  stuffed with rice, beans, meat, topped with en...   \n",
      "\n",
      "                     menus.name                                     name  \\\n",
      "15         Mondo Veggie Burrito                               Java Joe's   \n",
      "16                 Tofu Burrito                               Java Joe's   \n",
      "17           Black Bean Burrito                               Java Joe's   \n",
      "18             Burrito De Rajas  Mago Grill & Cantina - South Barrington   \n",
      "19                         Taco  Mago Grill & Cantina - South Barrington   \n",
      "...                         ...                                      ...   \n",
      "77255             Super Burrito                       La Casona Taqueria   \n",
      "77256  Steamed Broccoli Burrito                       La Casona Taqueria   \n",
      "77257              Regular Taco                       La Casona Taqueria   \n",
      "77258           Regular Burrito                       La Casona Taqueria   \n",
      "77259            Azteca Burrito                       La Casona Taqueria   \n",
      "\n",
      "            province  \n",
      "15                NM  \n",
      "16                NM  \n",
      "17                NM  \n",
      "18     Fox Rv Vly Gn  \n",
      "19     Fox Rv Vly Gn  \n",
      "...              ...  \n",
      "77255     California  \n",
      "77256     California  \n",
      "77257     California  \n",
      "77258     California  \n",
      "77259     California  \n",
      "\n",
      "[40511 rows x 16 columns]\n"
     ]
    }
   ],
   "execution_count": 4
  },
  {
   "metadata": {
    "ExecuteTime": {
     "end_time": "2025-04-07T15:30:23.373157Z",
     "start_time": "2025-04-07T15:30:23.363753Z"
    }
   },
   "cell_type": "code",
   "source": [
    "# print(df[['categories', 'city']])\n",
    "\n",
    "print(f\"df['categories']: {df['categories'].info()}\\n\")\n",
    "print(f\"df[['categories']]: {df[['categories']].info()}\")"
   ],
   "id": "31448a0a3fd2f942",
   "outputs": [
    {
     "name": "stdout",
     "output_type": "stream",
     "text": [
      "<class 'pandas.core.series.Series'>\n",
      "RangeIndex: 77260 entries, 0 to 77259\n",
      "Series name: categories\n",
      "Non-Null Count  Dtype \n",
      "--------------  ----- \n",
      "77260 non-null  object\n",
      "dtypes: object(1)\n",
      "memory usage: 603.7+ KB\n",
      "df['categories']: None\n",
      "\n",
      "<class 'pandas.core.frame.DataFrame'>\n",
      "RangeIndex: 77260 entries, 0 to 77259\n",
      "Data columns (total 1 columns):\n",
      " #   Column      Non-Null Count  Dtype \n",
      "---  ------      --------------  ----- \n",
      " 0   categories  77260 non-null  object\n",
      "dtypes: object(1)\n",
      "memory usage: 603.7+ KB\n",
      "df[['categories']]: None\n"
     ]
    }
   ],
   "execution_count": 5
  },
  {
   "metadata": {
    "ExecuteTime": {
     "end_time": "2025-04-07T15:30:23.387685Z",
     "start_time": "2025-04-07T15:30:23.382368Z"
    }
   },
   "cell_type": "code",
   "source": "print(df['city'].value_counts())",
   "id": "f35c36c1272e7d8e",
   "outputs": [
    {
     "name": "stdout",
     "output_type": "stream",
     "text": [
      "city\n",
      "San Diego            1924\n",
      "Los Angeles          1603\n",
      "Chicago              1186\n",
      "San Francisco        1120\n",
      "New York             1085\n",
      "                     ... \n",
      "Corfu                   1\n",
      "Sharon Hill             1\n",
      "Lawrence Township       1\n",
      "Selinsgrove             1\n",
      "Santa Clarita           1\n",
      "Name: count, Length: 3601, dtype: int64\n"
     ]
    }
   ],
   "execution_count": 6
  },
  {
   "metadata": {
    "ExecuteTime": {
     "end_time": "2025-04-07T15:30:23.411141Z",
     "start_time": "2025-04-07T15:30:23.405083Z"
    }
   },
   "cell_type": "code",
   "source": [
    "# result = df[df['name'] == 'Taco Bell'].groupby('city').size().nlargest(5)\n",
    "result = (\n",
    "    df[df['name'] == 'Taco Bell']\n",
    "    .groupby('city')['name']\n",
    "    .count()\n",
    "    .sort_values(ascending=False)\n",
    "    .head()\n",
    ")\n",
    "print(result)"
   ],
   "id": "ee072c80e45bfb58",
   "outputs": [
    {
     "name": "stdout",
     "output_type": "stream",
     "text": [
      "city\n",
      "Indianapolis    84\n",
      "Columbus        63\n",
      "Charleston      63\n",
      "Tampa           62\n",
      "Fresno          42\n",
      "Name: name, dtype: int64\n"
     ]
    }
   ],
   "execution_count": 7
  },
  {
   "metadata": {
    "ExecuteTime": {
     "end_time": "2025-04-07T15:30:23.470007Z",
     "start_time": "2025-04-07T15:30:23.429572Z"
    }
   },
   "cell_type": "code",
   "source": [
    "df_1 = df.copy()\n",
    "df_1['dateAdded'] = pd.to_datetime(df_1['dateAdded'])\n",
    "df_1['dateUpdated'] = pd.to_datetime(df_1['dateUpdated'])\n",
    "\n",
    "print(df_1[df_1['dateAdded'].dt.month >= 10].head())"
   ],
   "id": "770a4b068a38ded1",
   "outputs": [
    {
     "name": "stdout",
     "output_type": "stream",
     "text": [
      "                      id               address  \\\n",
      "2   AVwc__dF_7pvs4fz1Ncy  9521 Morton Davis Dr   \n",
      "21  AVwc_3Kp_7pvs4fz1MDQ       116 Pleasant St   \n",
      "22  AVwc_3Kp_7pvs4fz1MDQ       116 Pleasant St   \n",
      "23  AVwc_3Kp_7pvs4fz1MDQ       116 Pleasant St   \n",
      "24  AVwc_3Kp_7pvs4fz1MDQ       116 Pleasant St   \n",
      "\n",
      "                                           categories         city  \\\n",
      "2        Golf Course, American Restaurant, and Resort    Patterson   \n",
      "21  Restaurant,Seafood Restaurants,Take Out Restau...  Easthampton   \n",
      "22  Restaurant,Seafood Restaurants,Take Out Restau...  Easthampton   \n",
      "23  Restaurant,Seafood Restaurants,Take Out Restau...  Easthampton   \n",
      "24  Restaurant,Seafood Restaurants,Take Out Restau...  Easthampton   \n",
      "\n",
      "                        cuisines                 dateAdded  \\\n",
      "2                            NaN 2016-10-14 01:58:25+00:00   \n",
      "21  American,Seafood Restaurants 2015-10-26 23:10:06+00:00   \n",
      "22  American,Seafood Restaurants 2015-10-26 23:10:06+00:00   \n",
      "23  American,Seafood Restaurants 2015-10-26 23:10:06+00:00   \n",
      "24  American,Seafood Restaurants 2015-10-26 23:10:06+00:00   \n",
      "\n",
      "                 dateUpdated   latitude   longitude menus.category  \\\n",
      "2  2016-10-14 01:58:25+00:00  37.401855 -121.266703            NaN   \n",
      "21 2016-09-19 17:41:29+00:00  42.273525  -72.663124            NaN   \n",
      "22 2016-09-19 17:41:29+00:00  42.273525  -72.663124            NaN   \n",
      "23 2016-09-19 17:41:29+00:00  42.273525  -72.663124            NaN   \n",
      "24 2016-09-19 17:41:29+00:00  42.273525  -72.663124            NaN   \n",
      "\n",
      "   menus.currency        menus.dateSeen  \\\n",
      "2             NaN  2016-10-14T01:58:25Z   \n",
      "21            USD  2016-09-19T17:41:29Z   \n",
      "22            USD  2016-09-19T17:41:29Z   \n",
      "23            USD  2016-09-19T17:41:29Z   \n",
      "24            USD  2016-09-19T17:41:29Z   \n",
      "\n",
      "                                    menus.description  \\\n",
      "2   Beef barbacoa or chicken, spanish rice, pico d...   \n",
      "21  Crispy house-smoked pork belly, hoisin sauce, ...   \n",
      "22  Black beans, corn and black bean salsa, guacam...   \n",
      "23          Black beans, jasmine rice and peanut slaw   \n",
      "24  Black beans, cheddar, salsa, rice, sour cream,...   \n",
      "\n",
      "                 menus.name                               name     province  \n",
      "2          Smotherd Burrito  Diablo Grande Golf & Country Club      Grayson  \n",
      "21  Korean Pork Belly Tacos                       Riff's Joint  Westhampton  \n",
      "22  Speedy Gonzalez Burrito                       Riff's Joint  Westhampton  \n",
      "23        Thai Dyed Burrito                       Riff's Joint  Westhampton  \n",
      "24          Burrito Supreme                       Riff's Joint  Westhampton  \n"
     ]
    }
   ],
   "execution_count": 8
  },
  {
   "metadata": {
    "ExecuteTime": {
     "end_time": "2025-04-07T15:30:23.514050Z",
     "start_time": "2025-04-07T15:30:23.476424Z"
    }
   },
   "cell_type": "code",
   "source": [
    "df['dateAdded'] = pd.to_datetime(df['dateAdded'])\n",
    "df['dateUpdated'] = pd.to_datetime(df['dateUpdated'])\n",
    "\n",
    "\n",
    "result = (\n",
    "    df.groupby(df['dateAdded'].dt.month).agg({'id': 'nunique'})\n",
    ")\n",
    "print(result)\n",
    "# print(df[df['categories'].str.contains('Pizza')])"
   ],
   "id": "d9eb2d693f265541",
   "outputs": [
    {
     "name": "stdout",
     "output_type": "stream",
     "text": [
      "             id\n",
      "dateAdded      \n",
      "1           308\n",
      "2           257\n",
      "3          4970\n",
      "4          3224\n",
      "5          1141\n",
      "6          1356\n",
      "7           645\n",
      "8           479\n",
      "9           554\n",
      "10         4716\n",
      "11         1550\n",
      "12          239\n"
     ]
    }
   ],
   "execution_count": 9
  },
  {
   "metadata": {
    "ExecuteTime": {
     "end_time": "2025-04-07T15:30:23.529700Z",
     "start_time": "2025-04-07T15:30:23.520507Z"
    }
   },
   "cell_type": "code",
   "source": [
    "df['update_delta'] = (df['dateUpdated'] - df['dateAdded']).dt.days\n",
    "result = (\n",
    "    df.groupby('city').agg({'update_delta': 'mean', 'latitude': 'max'})\n",
    "    .reset_index()\n",
    ")\n",
    "\n",
    "zep_mean = result.loc[result['city'] == 'Zephyrhills', 'update_delta'].iloc[0]\n",
    "print(zep_mean)"
   ],
   "id": "63e291212dd66759",
   "outputs": [
    {
     "name": "stdout",
     "output_type": "stream",
     "text": [
      "329.69565217391306\n"
     ]
    }
   ],
   "execution_count": 10
  },
  {
   "metadata": {
    "ExecuteTime": {
     "end_time": "2025-04-07T15:30:23.748034Z",
     "start_time": "2025-04-07T15:30:23.536299Z"
    }
   },
   "cell_type": "code",
   "source": [
    "data = pd.read_csv('../datasets/6_pandas_data.csv')\n",
    "\n",
    "filtered = data[data['categories'].str.split(',').apply(len) > 20]\n",
    "\n",
    "result = (\n",
    "    filtered.groupby('province').agg({'longitude': 'min'})\n",
    "    .reset_index()\n",
    ")\n",
    "\n",
    "result['longitude'] = result['longitude'].round(3)\n",
    "# result.to_csv('result.csv', sep=';', index=False)"
   ],
   "id": "96addd31ed213cf5",
   "outputs": [],
   "execution_count": 11
  },
  {
   "metadata": {
    "ExecuteTime": {
     "end_time": "2025-04-07T15:30:23.777299Z",
     "start_time": "2025-04-07T15:30:23.757019Z"
    }
   },
   "cell_type": "code",
   "source": [
    "playstore = pd.read_csv('../datasets/playstore.csv')\n",
    "\n",
    "# print(playstore.shape)\n",
    "# print(playstore.nunique())\n",
    "\n",
    "rating_missing = playstore['Rating'].isna().sum()\n",
    "# print(rating_missing)\n",
    "\n",
    "columns = ['App', 'Size', 'Genres', 'Current Ver']\n",
    "\n",
    "result_concat = pd.concat([\n",
    "    playstore.loc[:2, columns],\n",
    "    playstore.loc[5:7, columns],\n",
    "    playstore.loc[15:18, columns]\n",
    "])\n",
    "print(result_concat)\n",
    "# result_concat.to_csv('result_concat.csv')"
   ],
   "id": "a073a16bf3ad6241",
   "outputs": [
    {
     "name": "stdout",
     "output_type": "stream",
     "text": [
      "                                                  App  Size  \\\n",
      "0      Photo Editor & Candy Camera & Grid & ScrapBook   19M   \n",
      "1                                 Coloring book moana   14M   \n",
      "2   U Launcher Lite – FREE Live Cool Themes, Hide ...  8.7M   \n",
      "5                          Paper flowers instructions  5.6M   \n",
      "6             Smoke Effect Photo Maker - Smoke Editor   19M   \n",
      "7                                    Infinite Painter   29M   \n",
      "15                    Learn To Draw Kawaii Characters  2.7M   \n",
      "16       Photo Designer - Write your name with shapes  5.5M   \n",
      "17                           350 Diy Room Decor Ideas   17M   \n",
      "18                      FlipaClip - Cartoon animation   39M   \n",
      "\n",
      "                       Genres Current Ver  \n",
      "0                Art & Design       1.0.0  \n",
      "1   Art & Design;Pretend Play       2.0.0  \n",
      "2                Art & Design       1.2.4  \n",
      "5                Art & Design         1.0  \n",
      "6                Art & Design         1.1  \n",
      "7                Art & Design    6.1.61.1  \n",
      "15               Art & Design         NaN  \n",
      "16               Art & Design         3.1  \n",
      "17               Art & Design         1.0  \n",
      "18               Art & Design       2.2.5  \n"
     ]
    }
   ],
   "execution_count": 12
  },
  {
   "metadata": {
    "ExecuteTime": {
     "end_time": "2025-04-07T15:30:23.791058Z",
     "start_time": "2025-04-07T15:30:23.787937Z"
    }
   },
   "cell_type": "code",
   "source": [
    "old = playstore.columns\n",
    "new = old.str.lower().str.replace(' ', '_')\n",
    "playstore = playstore.rename(columns=dict(zip(old, new)))"
   ],
   "id": "5622fa5997712fc0",
   "outputs": [],
   "execution_count": 13
  },
  {
   "metadata": {
    "ExecuteTime": {
     "end_time": "2025-04-07T15:30:23.806607Z",
     "start_time": "2025-04-07T15:30:23.802005Z"
    }
   },
   "cell_type": "code",
   "source": [
    "# print(playstore.drop_duplicates('app').value_counts(subset=['type'], normalize=True))\n",
    "education_playstore = playstore[(playstore['category'] == 'EDUCATION') & (playstore['reviews'] > 1000)].reset_index(drop = True)\n",
    "print(education_playstore)"
   ],
   "id": "ac9c5a08345c4dbd",
   "outputs": [
    {
     "name": "stdout",
     "output_type": "stream",
     "text": [
      "     unnamed:_0                                                app   category  \\\n",
      "0           699                     Duolingo: Learn Languages Free  EDUCATION   \n",
      "1           700                                                TED  EDUCATION   \n",
      "2           701  English Communication - Learn English for Chin...  EDUCATION   \n",
      "3           702                                       Khan Academy  EDUCATION   \n",
      "4           703                         Learn English with Wlingua  EDUCATION   \n",
      "..          ...                                                ...        ...   \n",
      "130         848                  SoloLearn: Learn to Code for Free  EDUCATION   \n",
      "131         849                     Kids Learn Languages by Mondly  EDUCATION   \n",
      "132         850                        Blinkist - Nonfiction Books  EDUCATION   \n",
      "133         853                                    Toca Life: City  EDUCATION   \n",
      "134         854                                Toca Life: Hospital  EDUCATION   \n",
      "\n",
      "     rating  reviews                size      installs  type  price  \\\n",
      "0       4.7  6289924  Varies with device  100,000,000+  Free      0   \n",
      "1       4.6   181893                 18M   10,000,000+  Free      0   \n",
      "2       4.7     2544                 18M      100,000+  Free      0   \n",
      "3       4.6    85375                 21M    5,000,000+  Free      0   \n",
      "4       4.7   314299                3.3M   10,000,000+  Free      0   \n",
      "..      ...      ...                 ...           ...   ...    ...   \n",
      "130     4.8   256079                7.6M    1,000,000+  Free      0   \n",
      "131     4.4     2078  Varies with device      100,000+  Free      0   \n",
      "132     4.1    16103                 13M    1,000,000+  Free      0   \n",
      "133     4.7    31085                 24M      500,000+  Paid  $3.99   \n",
      "134     4.7     3528                 24M      100,000+  Paid  $3.99   \n",
      "\n",
      "    content_rating                  genres       last_updated  \\\n",
      "0         Everyone     Education;Education     August 1, 2018   \n",
      "1     Everyone 10+               Education      July 27, 2018   \n",
      "2         Everyone               Education  December 29, 2017   \n",
      "3         Everyone               Education      July 27, 2018   \n",
      "4         Everyone               Education        May 2, 2018   \n",
      "..             ...                     ...                ...   \n",
      "130           Teen               Education      July 12, 2018   \n",
      "131       Everyone     Education;Education  December 24, 2017   \n",
      "132       Everyone               Education      July 31, 2018   \n",
      "133       Everyone  Education;Pretend Play       July 6, 2018   \n",
      "134       Everyone  Education;Pretend Play      June 12, 2018   \n",
      "\n",
      "            current_ver         android_ver  \n",
      "0    Varies with device  Varies with device  \n",
      "1                 3.2.5          4.1 and up  \n",
      "2                   3.1          4.0 and up  \n",
      "3                 5.0.0          4.1 and up  \n",
      "4                1.94.9          4.0 and up  \n",
      "..                  ...                 ...  \n",
      "130               2.2.4        4.0.3 and up  \n",
      "131               1.0.2          4.1 and up  \n",
      "132               5.7.1          4.1 and up  \n",
      "133            1.5-play          4.4 and up  \n",
      "134          1.1.1-play          4.4 and up  \n",
      "\n",
      "[135 rows x 14 columns]\n"
     ]
    }
   ],
   "execution_count": 14
  },
  {
   "metadata": {
    "ExecuteTime": {
     "end_time": "2025-04-07T15:30:24.485939Z",
     "start_time": "2025-04-07T15:30:23.881150Z"
    }
   },
   "cell_type": "code",
   "source": [
    "# print(playstore)\n",
    "# print(playstore['app'].drop_duplicates().reset_index(drop=True))\n",
    "# test = pd.DataFrame({\n",
    "#     'region': ['North', 'South', 'North', 'South', 'North'],\n",
    "#     'product': ['A', 'A', 'B', 'B', 'A'],\n",
    "#     'sales': [100, 200, 150, 120, 130]\n",
    "# })\n",
    "# print(test)\n",
    "playstore['price'] = playstore['price'].astype(str).str.replace('$', '').astype(float)\n",
    "pivot = playstore.pivot_table(\n",
    "    values=['price','rating', 'reviews'],\n",
    "    index=['category', 'type'],\n",
    "    aggfunc={\n",
    "        'price': lambda x: round(x.mean(), 2),\n",
    "        'rating': lambda x: round(x.mean(), 1),\n",
    "        'reviews': lambda x: round(x.mean(), 2)\n",
    "    }\n",
    ")\n",
    "pivot = pivot.rename(columns={\n",
    "    'price': 'mean_price',\n",
    "    'rating': 'mean_rating',\n",
    "    'reviews': 'mean_reviews'\n",
    "})\n",
    "print(pivot)\n",
    "pivot.to_csv('result_1.csv', index=True)"
   ],
   "id": "74bf78a5d3d6993a",
   "outputs": [
    {
     "ename": "TypeError",
     "evalue": "Could not convert string '00000000000000000000000000000000000000000000000000000000000000' to numeric",
     "output_type": "error",
     "traceback": [
      "\u001B[31m---------------------------------------------------------------------------\u001B[39m",
      "\u001B[31mTypeError\u001B[39m                                 Traceback (most recent call last)",
      "\u001B[36mCell\u001B[39m\u001B[36m \u001B[39m\u001B[32mIn[15]\u001B[39m\u001B[32m, line 7\u001B[39m\n\u001B[32m      4\u001B[39m playstore[\u001B[33m'\u001B[39m\u001B[33mreviews\u001B[39m\u001B[33m'\u001B[39m] = pd.to_numeric(playstore[\u001B[33m'\u001B[39m\u001B[33mreviews\u001B[39m\u001B[33m'\u001B[39m], errors=\u001B[33m'\u001B[39m\u001B[33mcoerce\u001B[39m\u001B[33m'\u001B[39m)\n\u001B[32m      6\u001B[39m \u001B[38;5;66;03m# Строим сводную таблицу (pivot_table)\u001B[39;00m\n\u001B[32m----> \u001B[39m\u001B[32m7\u001B[39m pivot = \u001B[43mplaystore\u001B[49m\u001B[43m.\u001B[49m\u001B[43mpivot_table\u001B[49m\u001B[43m(\u001B[49m\n\u001B[32m      8\u001B[39m \u001B[43m    \u001B[49m\u001B[43mvalues\u001B[49m\u001B[43m=\u001B[49m\u001B[43m[\u001B[49m\u001B[33;43m'\u001B[39;49m\u001B[33;43mprice\u001B[39;49m\u001B[33;43m'\u001B[39;49m\u001B[43m,\u001B[49m\u001B[43m \u001B[49m\u001B[33;43m'\u001B[39;49m\u001B[33;43mrating\u001B[39;49m\u001B[33;43m'\u001B[39;49m\u001B[43m,\u001B[49m\u001B[43m \u001B[49m\u001B[33;43m'\u001B[39;49m\u001B[33;43mreviews\u001B[39;49m\u001B[33;43m'\u001B[39;49m\u001B[43m]\u001B[49m\u001B[43m,\u001B[49m\n\u001B[32m      9\u001B[39m \u001B[43m    \u001B[49m\u001B[43mindex\u001B[49m\u001B[43m=\u001B[49m\u001B[43m[\u001B[49m\u001B[33;43m'\u001B[39;49m\u001B[33;43mcategory\u001B[39;49m\u001B[33;43m'\u001B[39;49m\u001B[43m,\u001B[49m\u001B[43m \u001B[49m\u001B[33;43m'\u001B[39;49m\u001B[33;43mtype\u001B[39;49m\u001B[33;43m'\u001B[39;49m\u001B[43m]\u001B[49m\u001B[43m,\u001B[49m\n\u001B[32m     10\u001B[39m \u001B[43m    \u001B[49m\u001B[43maggfunc\u001B[49m\u001B[43m=\u001B[49m\u001B[43m{\u001B[49m\n\u001B[32m     11\u001B[39m \u001B[43m        \u001B[49m\u001B[33;43m'\u001B[39;49m\u001B[33;43mprice\u001B[39;49m\u001B[33;43m'\u001B[39;49m\u001B[43m:\u001B[49m\u001B[43m \u001B[49m\u001B[38;5;28;43;01mlambda\u001B[39;49;00m\u001B[43m \u001B[49m\u001B[43mx\u001B[49m\u001B[43m:\u001B[49m\u001B[43m \u001B[49m\u001B[38;5;28;43mround\u001B[39;49m\u001B[43m(\u001B[49m\u001B[43mx\u001B[49m\u001B[43m.\u001B[49m\u001B[43mmean\u001B[49m\u001B[43m(\u001B[49m\u001B[43m)\u001B[49m\u001B[43m,\u001B[49m\u001B[43m \u001B[49m\u001B[32;43m2\u001B[39;49m\u001B[43m)\u001B[49m\u001B[43m,\u001B[49m\n\u001B[32m     12\u001B[39m \u001B[43m        \u001B[49m\u001B[33;43m'\u001B[39;49m\u001B[33;43mrating\u001B[39;49m\u001B[33;43m'\u001B[39;49m\u001B[43m:\u001B[49m\u001B[43m \u001B[49m\u001B[38;5;28;43;01mlambda\u001B[39;49;00m\u001B[43m \u001B[49m\u001B[43mx\u001B[49m\u001B[43m:\u001B[49m\u001B[43m \u001B[49m\u001B[38;5;28;43mround\u001B[39;49m\u001B[43m(\u001B[49m\u001B[43mx\u001B[49m\u001B[43m.\u001B[49m\u001B[43mmean\u001B[49m\u001B[43m(\u001B[49m\u001B[43m)\u001B[49m\u001B[43m,\u001B[49m\u001B[43m \u001B[49m\u001B[32;43m1\u001B[39;49m\u001B[43m)\u001B[49m\u001B[43m,\u001B[49m\n\u001B[32m     13\u001B[39m \u001B[43m        \u001B[49m\u001B[33;43m'\u001B[39;49m\u001B[33;43mreviews\u001B[39;49m\u001B[33;43m'\u001B[39;49m\u001B[43m:\u001B[49m\u001B[43m \u001B[49m\u001B[38;5;28;43;01mlambda\u001B[39;49;00m\u001B[43m \u001B[49m\u001B[43mx\u001B[49m\u001B[43m:\u001B[49m\u001B[43m \u001B[49m\u001B[38;5;28;43mround\u001B[39;49m\u001B[43m(\u001B[49m\u001B[43mx\u001B[49m\u001B[43m.\u001B[49m\u001B[43mmean\u001B[49m\u001B[43m(\u001B[49m\u001B[43m)\u001B[49m\u001B[43m,\u001B[49m\u001B[43m \u001B[49m\u001B[32;43m2\u001B[39;49m\u001B[43m)\u001B[49m\n\u001B[32m     14\u001B[39m \u001B[43m    \u001B[49m\u001B[43m}\u001B[49m\n\u001B[32m     15\u001B[39m \u001B[43m)\u001B[49m\n\u001B[32m     17\u001B[39m \u001B[38;5;66;03m# Переименовываем колонки\u001B[39;00m\n\u001B[32m     18\u001B[39m pivot = pivot.rename(columns={\n\u001B[32m     19\u001B[39m     \u001B[33m'\u001B[39m\u001B[33mprice\u001B[39m\u001B[33m'\u001B[39m: \u001B[33m'\u001B[39m\u001B[33mmean_price\u001B[39m\u001B[33m'\u001B[39m,\n\u001B[32m     20\u001B[39m     \u001B[33m'\u001B[39m\u001B[33mrating\u001B[39m\u001B[33m'\u001B[39m: \u001B[33m'\u001B[39m\u001B[33mmean_rating\u001B[39m\u001B[33m'\u001B[39m,\n\u001B[32m     21\u001B[39m     \u001B[33m'\u001B[39m\u001B[33mreviews\u001B[39m\u001B[33m'\u001B[39m: \u001B[33m'\u001B[39m\u001B[33mmean_reviews\u001B[39m\u001B[33m'\u001B[39m\n\u001B[32m     22\u001B[39m })\n",
      "\u001B[36mFile \u001B[39m\u001B[32m/opt/anaconda3/envs/ML_engineering_KC/lib/python3.12/site-packages/pandas/core/frame.py:9509\u001B[39m, in \u001B[36mDataFrame.pivot_table\u001B[39m\u001B[34m(self, values, index, columns, aggfunc, fill_value, margins, dropna, margins_name, observed, sort)\u001B[39m\n\u001B[32m   9492\u001B[39m \u001B[38;5;129m@Substitution\u001B[39m(\u001B[33m\"\u001B[39m\u001B[33m\"\u001B[39m)\n\u001B[32m   9493\u001B[39m \u001B[38;5;129m@Appender\u001B[39m(_shared_docs[\u001B[33m\"\u001B[39m\u001B[33mpivot_table\u001B[39m\u001B[33m\"\u001B[39m])\n\u001B[32m   9494\u001B[39m \u001B[38;5;28;01mdef\u001B[39;00m\u001B[38;5;250m \u001B[39m\u001B[34mpivot_table\u001B[39m(\n\u001B[32m   (...)\u001B[39m\u001B[32m   9505\u001B[39m     sort: \u001B[38;5;28mbool\u001B[39m = \u001B[38;5;28;01mTrue\u001B[39;00m,\n\u001B[32m   9506\u001B[39m ) -> DataFrame:\n\u001B[32m   9507\u001B[39m     \u001B[38;5;28;01mfrom\u001B[39;00m\u001B[38;5;250m \u001B[39m\u001B[34;01mpandas\u001B[39;00m\u001B[34;01m.\u001B[39;00m\u001B[34;01mcore\u001B[39;00m\u001B[34;01m.\u001B[39;00m\u001B[34;01mreshape\u001B[39;00m\u001B[34;01m.\u001B[39;00m\u001B[34;01mpivot\u001B[39;00m\u001B[38;5;250m \u001B[39m\u001B[38;5;28;01mimport\u001B[39;00m pivot_table\n\u001B[32m-> \u001B[39m\u001B[32m9509\u001B[39m     \u001B[38;5;28;01mreturn\u001B[39;00m \u001B[43mpivot_table\u001B[49m\u001B[43m(\u001B[49m\n\u001B[32m   9510\u001B[39m \u001B[43m        \u001B[49m\u001B[38;5;28;43mself\u001B[39;49m\u001B[43m,\u001B[49m\n\u001B[32m   9511\u001B[39m \u001B[43m        \u001B[49m\u001B[43mvalues\u001B[49m\u001B[43m=\u001B[49m\u001B[43mvalues\u001B[49m\u001B[43m,\u001B[49m\n\u001B[32m   9512\u001B[39m \u001B[43m        \u001B[49m\u001B[43mindex\u001B[49m\u001B[43m=\u001B[49m\u001B[43mindex\u001B[49m\u001B[43m,\u001B[49m\n\u001B[32m   9513\u001B[39m \u001B[43m        \u001B[49m\u001B[43mcolumns\u001B[49m\u001B[43m=\u001B[49m\u001B[43mcolumns\u001B[49m\u001B[43m,\u001B[49m\n\u001B[32m   9514\u001B[39m \u001B[43m        \u001B[49m\u001B[43maggfunc\u001B[49m\u001B[43m=\u001B[49m\u001B[43maggfunc\u001B[49m\u001B[43m,\u001B[49m\n\u001B[32m   9515\u001B[39m \u001B[43m        \u001B[49m\u001B[43mfill_value\u001B[49m\u001B[43m=\u001B[49m\u001B[43mfill_value\u001B[49m\u001B[43m,\u001B[49m\n\u001B[32m   9516\u001B[39m \u001B[43m        \u001B[49m\u001B[43mmargins\u001B[49m\u001B[43m=\u001B[49m\u001B[43mmargins\u001B[49m\u001B[43m,\u001B[49m\n\u001B[32m   9517\u001B[39m \u001B[43m        \u001B[49m\u001B[43mdropna\u001B[49m\u001B[43m=\u001B[49m\u001B[43mdropna\u001B[49m\u001B[43m,\u001B[49m\n\u001B[32m   9518\u001B[39m \u001B[43m        \u001B[49m\u001B[43mmargins_name\u001B[49m\u001B[43m=\u001B[49m\u001B[43mmargins_name\u001B[49m\u001B[43m,\u001B[49m\n\u001B[32m   9519\u001B[39m \u001B[43m        \u001B[49m\u001B[43mobserved\u001B[49m\u001B[43m=\u001B[49m\u001B[43mobserved\u001B[49m\u001B[43m,\u001B[49m\n\u001B[32m   9520\u001B[39m \u001B[43m        \u001B[49m\u001B[43msort\u001B[49m\u001B[43m=\u001B[49m\u001B[43msort\u001B[49m\u001B[43m,\u001B[49m\n\u001B[32m   9521\u001B[39m \u001B[43m    \u001B[49m\u001B[43m)\u001B[49m\n",
      "\u001B[36mFile \u001B[39m\u001B[32m/opt/anaconda3/envs/ML_engineering_KC/lib/python3.12/site-packages/pandas/core/reshape/pivot.py:102\u001B[39m, in \u001B[36mpivot_table\u001B[39m\u001B[34m(data, values, index, columns, aggfunc, fill_value, margins, dropna, margins_name, observed, sort)\u001B[39m\n\u001B[32m     99\u001B[39m     table = concat(pieces, keys=keys, axis=\u001B[32m1\u001B[39m)\n\u001B[32m    100\u001B[39m     \u001B[38;5;28;01mreturn\u001B[39;00m table.__finalize__(data, method=\u001B[33m\"\u001B[39m\u001B[33mpivot_table\u001B[39m\u001B[33m\"\u001B[39m)\n\u001B[32m--> \u001B[39m\u001B[32m102\u001B[39m table = \u001B[43m__internal_pivot_table\u001B[49m\u001B[43m(\u001B[49m\n\u001B[32m    103\u001B[39m \u001B[43m    \u001B[49m\u001B[43mdata\u001B[49m\u001B[43m,\u001B[49m\n\u001B[32m    104\u001B[39m \u001B[43m    \u001B[49m\u001B[43mvalues\u001B[49m\u001B[43m,\u001B[49m\n\u001B[32m    105\u001B[39m \u001B[43m    \u001B[49m\u001B[43mindex\u001B[49m\u001B[43m,\u001B[49m\n\u001B[32m    106\u001B[39m \u001B[43m    \u001B[49m\u001B[43mcolumns\u001B[49m\u001B[43m,\u001B[49m\n\u001B[32m    107\u001B[39m \u001B[43m    \u001B[49m\u001B[43maggfunc\u001B[49m\u001B[43m,\u001B[49m\n\u001B[32m    108\u001B[39m \u001B[43m    \u001B[49m\u001B[43mfill_value\u001B[49m\u001B[43m,\u001B[49m\n\u001B[32m    109\u001B[39m \u001B[43m    \u001B[49m\u001B[43mmargins\u001B[49m\u001B[43m,\u001B[49m\n\u001B[32m    110\u001B[39m \u001B[43m    \u001B[49m\u001B[43mdropna\u001B[49m\u001B[43m,\u001B[49m\n\u001B[32m    111\u001B[39m \u001B[43m    \u001B[49m\u001B[43mmargins_name\u001B[49m\u001B[43m,\u001B[49m\n\u001B[32m    112\u001B[39m \u001B[43m    \u001B[49m\u001B[43mobserved\u001B[49m\u001B[43m,\u001B[49m\n\u001B[32m    113\u001B[39m \u001B[43m    \u001B[49m\u001B[43msort\u001B[49m\u001B[43m,\u001B[49m\n\u001B[32m    114\u001B[39m \u001B[43m\u001B[49m\u001B[43m)\u001B[49m\n\u001B[32m    115\u001B[39m \u001B[38;5;28;01mreturn\u001B[39;00m table.__finalize__(data, method=\u001B[33m\"\u001B[39m\u001B[33mpivot_table\u001B[39m\u001B[33m\"\u001B[39m)\n",
      "\u001B[36mFile \u001B[39m\u001B[32m/opt/anaconda3/envs/ML_engineering_KC/lib/python3.12/site-packages/pandas/core/reshape/pivot.py:183\u001B[39m, in \u001B[36m__internal_pivot_table\u001B[39m\u001B[34m(data, values, index, columns, aggfunc, fill_value, margins, dropna, margins_name, observed, sort)\u001B[39m\n\u001B[32m    173\u001B[39m \u001B[38;5;28;01mif\u001B[39;00m observed \u001B[38;5;129;01mis\u001B[39;00m lib.no_default \u001B[38;5;129;01mand\u001B[39;00m \u001B[38;5;28many\u001B[39m(\n\u001B[32m    174\u001B[39m     ping._passed_categorical \u001B[38;5;28;01mfor\u001B[39;00m ping \u001B[38;5;129;01min\u001B[39;00m grouped._grouper.groupings\n\u001B[32m    175\u001B[39m ):\n\u001B[32m    176\u001B[39m     warnings.warn(\n\u001B[32m    177\u001B[39m         \u001B[33m\"\u001B[39m\u001B[33mThe default value of observed=False is deprecated and will change \u001B[39m\u001B[33m\"\u001B[39m\n\u001B[32m    178\u001B[39m         \u001B[33m\"\u001B[39m\u001B[33mto observed=True in a future version of pandas. Specify \u001B[39m\u001B[33m\"\u001B[39m\n\u001B[32m   (...)\u001B[39m\u001B[32m    181\u001B[39m         stacklevel=find_stack_level(),\n\u001B[32m    182\u001B[39m     )\n\u001B[32m--> \u001B[39m\u001B[32m183\u001B[39m agged = \u001B[43mgrouped\u001B[49m\u001B[43m.\u001B[49m\u001B[43magg\u001B[49m\u001B[43m(\u001B[49m\u001B[43maggfunc\u001B[49m\u001B[43m)\u001B[49m\n\u001B[32m    185\u001B[39m \u001B[38;5;28;01mif\u001B[39;00m dropna \u001B[38;5;129;01mand\u001B[39;00m \u001B[38;5;28misinstance\u001B[39m(agged, ABCDataFrame) \u001B[38;5;129;01mand\u001B[39;00m \u001B[38;5;28mlen\u001B[39m(agged.columns):\n\u001B[32m    186\u001B[39m     agged = agged.dropna(how=\u001B[33m\"\u001B[39m\u001B[33mall\u001B[39m\u001B[33m\"\u001B[39m)\n",
      "\u001B[36mFile \u001B[39m\u001B[32m/opt/anaconda3/envs/ML_engineering_KC/lib/python3.12/site-packages/pandas/core/groupby/generic.py:1432\u001B[39m, in \u001B[36mDataFrameGroupBy.aggregate\u001B[39m\u001B[34m(self, func, engine, engine_kwargs, *args, **kwargs)\u001B[39m\n\u001B[32m   1429\u001B[39m     kwargs[\u001B[33m\"\u001B[39m\u001B[33mengine_kwargs\u001B[39m\u001B[33m\"\u001B[39m] = engine_kwargs\n\u001B[32m   1431\u001B[39m op = GroupByApply(\u001B[38;5;28mself\u001B[39m, func, args=args, kwargs=kwargs)\n\u001B[32m-> \u001B[39m\u001B[32m1432\u001B[39m result = \u001B[43mop\u001B[49m\u001B[43m.\u001B[49m\u001B[43magg\u001B[49m\u001B[43m(\u001B[49m\u001B[43m)\u001B[49m\n\u001B[32m   1433\u001B[39m \u001B[38;5;28;01mif\u001B[39;00m \u001B[38;5;129;01mnot\u001B[39;00m is_dict_like(func) \u001B[38;5;129;01mand\u001B[39;00m result \u001B[38;5;129;01mis\u001B[39;00m \u001B[38;5;129;01mnot\u001B[39;00m \u001B[38;5;28;01mNone\u001B[39;00m:\n\u001B[32m   1434\u001B[39m     \u001B[38;5;66;03m# GH #52849\u001B[39;00m\n\u001B[32m   1435\u001B[39m     \u001B[38;5;28;01mif\u001B[39;00m \u001B[38;5;129;01mnot\u001B[39;00m \u001B[38;5;28mself\u001B[39m.as_index \u001B[38;5;129;01mand\u001B[39;00m is_list_like(func):\n",
      "\u001B[36mFile \u001B[39m\u001B[32m/opt/anaconda3/envs/ML_engineering_KC/lib/python3.12/site-packages/pandas/core/apply.py:190\u001B[39m, in \u001B[36mApply.agg\u001B[39m\u001B[34m(self)\u001B[39m\n\u001B[32m    187\u001B[39m     \u001B[38;5;28;01mreturn\u001B[39;00m \u001B[38;5;28mself\u001B[39m.apply_str()\n\u001B[32m    189\u001B[39m \u001B[38;5;28;01mif\u001B[39;00m is_dict_like(func):\n\u001B[32m--> \u001B[39m\u001B[32m190\u001B[39m     \u001B[38;5;28;01mreturn\u001B[39;00m \u001B[38;5;28;43mself\u001B[39;49m\u001B[43m.\u001B[49m\u001B[43magg_dict_like\u001B[49m\u001B[43m(\u001B[49m\u001B[43m)\u001B[49m\n\u001B[32m    191\u001B[39m \u001B[38;5;28;01melif\u001B[39;00m is_list_like(func):\n\u001B[32m    192\u001B[39m     \u001B[38;5;66;03m# we require a list, but not a 'str'\u001B[39;00m\n\u001B[32m    193\u001B[39m     \u001B[38;5;28;01mreturn\u001B[39;00m \u001B[38;5;28mself\u001B[39m.agg_list_like()\n",
      "\u001B[36mFile \u001B[39m\u001B[32m/opt/anaconda3/envs/ML_engineering_KC/lib/python3.12/site-packages/pandas/core/apply.py:423\u001B[39m, in \u001B[36mApply.agg_dict_like\u001B[39m\u001B[34m(self)\u001B[39m\n\u001B[32m    415\u001B[39m \u001B[38;5;28;01mdef\u001B[39;00m\u001B[38;5;250m \u001B[39m\u001B[34magg_dict_like\u001B[39m(\u001B[38;5;28mself\u001B[39m) -> DataFrame | Series:\n\u001B[32m    416\u001B[39m \u001B[38;5;250m    \u001B[39m\u001B[33;03m\"\"\"\u001B[39;00m\n\u001B[32m    417\u001B[39m \u001B[33;03m    Compute aggregation in the case of a dict-like argument.\u001B[39;00m\n\u001B[32m    418\u001B[39m \n\u001B[32m   (...)\u001B[39m\u001B[32m    421\u001B[39m \u001B[33;03m    Result of aggregation.\u001B[39;00m\n\u001B[32m    422\u001B[39m \u001B[33;03m    \"\"\"\u001B[39;00m\n\u001B[32m--> \u001B[39m\u001B[32m423\u001B[39m     \u001B[38;5;28;01mreturn\u001B[39;00m \u001B[38;5;28;43mself\u001B[39;49m\u001B[43m.\u001B[49m\u001B[43magg_or_apply_dict_like\u001B[49m\u001B[43m(\u001B[49m\u001B[43mop_name\u001B[49m\u001B[43m=\u001B[49m\u001B[33;43m\"\u001B[39;49m\u001B[33;43magg\u001B[39;49m\u001B[33;43m\"\u001B[39;49m\u001B[43m)\u001B[49m\n",
      "\u001B[36mFile \u001B[39m\u001B[32m/opt/anaconda3/envs/ML_engineering_KC/lib/python3.12/site-packages/pandas/core/apply.py:1608\u001B[39m, in \u001B[36mGroupByApply.agg_or_apply_dict_like\u001B[39m\u001B[34m(self, op_name)\u001B[39m\n\u001B[32m   1603\u001B[39m     kwargs.update({\u001B[33m\"\u001B[39m\u001B[33mengine\u001B[39m\u001B[33m\"\u001B[39m: engine, \u001B[33m\"\u001B[39m\u001B[33mengine_kwargs\u001B[39m\u001B[33m\"\u001B[39m: engine_kwargs})\n\u001B[32m   1605\u001B[39m \u001B[38;5;28;01mwith\u001B[39;00m com.temp_setattr(\n\u001B[32m   1606\u001B[39m     obj, \u001B[33m\"\u001B[39m\u001B[33mas_index\u001B[39m\u001B[33m\"\u001B[39m, \u001B[38;5;28;01mTrue\u001B[39;00m, condition=\u001B[38;5;28mhasattr\u001B[39m(obj, \u001B[33m\"\u001B[39m\u001B[33mas_index\u001B[39m\u001B[33m\"\u001B[39m)\n\u001B[32m   1607\u001B[39m ):\n\u001B[32m-> \u001B[39m\u001B[32m1608\u001B[39m     result_index, result_data = \u001B[38;5;28;43mself\u001B[39;49m\u001B[43m.\u001B[49m\u001B[43mcompute_dict_like\u001B[49m\u001B[43m(\u001B[49m\n\u001B[32m   1609\u001B[39m \u001B[43m        \u001B[49m\u001B[43mop_name\u001B[49m\u001B[43m,\u001B[49m\u001B[43m \u001B[49m\u001B[43mselected_obj\u001B[49m\u001B[43m,\u001B[49m\u001B[43m \u001B[49m\u001B[43mselection\u001B[49m\u001B[43m,\u001B[49m\u001B[43m \u001B[49m\u001B[43mkwargs\u001B[49m\n\u001B[32m   1610\u001B[39m \u001B[43m    \u001B[49m\u001B[43m)\u001B[49m\n\u001B[32m   1611\u001B[39m result = \u001B[38;5;28mself\u001B[39m.wrap_results_dict_like(selected_obj, result_index, result_data)\n\u001B[32m   1612\u001B[39m \u001B[38;5;28;01mreturn\u001B[39;00m result\n",
      "\u001B[36mFile \u001B[39m\u001B[32m/opt/anaconda3/envs/ML_engineering_KC/lib/python3.12/site-packages/pandas/core/apply.py:497\u001B[39m, in \u001B[36mApply.compute_dict_like\u001B[39m\u001B[34m(self, op_name, selected_obj, selection, kwargs)\u001B[39m\n\u001B[32m    493\u001B[39m         results += key_data\n\u001B[32m    494\u001B[39m \u001B[38;5;28;01melse\u001B[39;00m:\n\u001B[32m    495\u001B[39m     \u001B[38;5;66;03m# key used for column selection and output\u001B[39;00m\n\u001B[32m    496\u001B[39m     results = [\n\u001B[32m--> \u001B[39m\u001B[32m497\u001B[39m         \u001B[38;5;28;43mgetattr\u001B[39;49m\u001B[43m(\u001B[49m\u001B[43mobj\u001B[49m\u001B[43m.\u001B[49m\u001B[43m_gotitem\u001B[49m\u001B[43m(\u001B[49m\u001B[43mkey\u001B[49m\u001B[43m,\u001B[49m\u001B[43m \u001B[49m\u001B[43mndim\u001B[49m\u001B[43m=\u001B[49m\u001B[32;43m1\u001B[39;49m\u001B[43m)\u001B[49m\u001B[43m,\u001B[49m\u001B[43m \u001B[49m\u001B[43mop_name\u001B[49m\u001B[43m)\u001B[49m\u001B[43m(\u001B[49m\u001B[43mhow\u001B[49m\u001B[43m,\u001B[49m\u001B[43m \u001B[49m\u001B[43m*\u001B[49m\u001B[43m*\u001B[49m\u001B[43mkwargs\u001B[49m\u001B[43m)\u001B[49m\n\u001B[32m    498\u001B[39m         \u001B[38;5;28;01mfor\u001B[39;00m key, how \u001B[38;5;129;01min\u001B[39;00m func.items()\n\u001B[32m    499\u001B[39m     ]\n\u001B[32m    500\u001B[39m     keys = \u001B[38;5;28mlist\u001B[39m(func.keys())\n\u001B[32m    502\u001B[39m \u001B[38;5;28;01mreturn\u001B[39;00m keys, results\n",
      "\u001B[36mFile \u001B[39m\u001B[32m/opt/anaconda3/envs/ML_engineering_KC/lib/python3.12/site-packages/pandas/core/groupby/generic.py:291\u001B[39m, in \u001B[36mSeriesGroupBy.aggregate\u001B[39m\u001B[34m(self, func, engine, engine_kwargs, *args, **kwargs)\u001B[39m\n\u001B[32m    283\u001B[39m     \u001B[38;5;28;01mreturn\u001B[39;00m \u001B[38;5;28mself\u001B[39m.obj._constructor(\n\u001B[32m    284\u001B[39m         [],\n\u001B[32m    285\u001B[39m         name=\u001B[38;5;28mself\u001B[39m.obj.name,\n\u001B[32m    286\u001B[39m         index=\u001B[38;5;28mself\u001B[39m._grouper.result_index,\n\u001B[32m    287\u001B[39m         dtype=obj.dtype,\n\u001B[32m    288\u001B[39m     )\n\u001B[32m    290\u001B[39m \u001B[38;5;28;01mif\u001B[39;00m \u001B[38;5;28mself\u001B[39m._grouper.nkeys > \u001B[32m1\u001B[39m:\n\u001B[32m--> \u001B[39m\u001B[32m291\u001B[39m     \u001B[38;5;28;01mreturn\u001B[39;00m \u001B[38;5;28;43mself\u001B[39;49m\u001B[43m.\u001B[49m\u001B[43m_python_agg_general\u001B[49m\u001B[43m(\u001B[49m\u001B[43mfunc\u001B[49m\u001B[43m,\u001B[49m\u001B[43m \u001B[49m\u001B[43m*\u001B[49m\u001B[43margs\u001B[49m\u001B[43m,\u001B[49m\u001B[43m \u001B[49m\u001B[43m*\u001B[49m\u001B[43m*\u001B[49m\u001B[43mkwargs\u001B[49m\u001B[43m)\u001B[49m\n\u001B[32m    293\u001B[39m \u001B[38;5;28;01mtry\u001B[39;00m:\n\u001B[32m    294\u001B[39m     \u001B[38;5;28;01mreturn\u001B[39;00m \u001B[38;5;28mself\u001B[39m._python_agg_general(func, *args, **kwargs)\n",
      "\u001B[36mFile \u001B[39m\u001B[32m/opt/anaconda3/envs/ML_engineering_KC/lib/python3.12/site-packages/pandas/core/groupby/generic.py:327\u001B[39m, in \u001B[36mSeriesGroupBy._python_agg_general\u001B[39m\u001B[34m(self, func, *args, **kwargs)\u001B[39m\n\u001B[32m    324\u001B[39m f = \u001B[38;5;28;01mlambda\u001B[39;00m x: func(x, *args, **kwargs)\n\u001B[32m    326\u001B[39m obj = \u001B[38;5;28mself\u001B[39m._obj_with_exclusions\n\u001B[32m--> \u001B[39m\u001B[32m327\u001B[39m result = \u001B[38;5;28;43mself\u001B[39;49m\u001B[43m.\u001B[49m\u001B[43m_grouper\u001B[49m\u001B[43m.\u001B[49m\u001B[43magg_series\u001B[49m\u001B[43m(\u001B[49m\u001B[43mobj\u001B[49m\u001B[43m,\u001B[49m\u001B[43m \u001B[49m\u001B[43mf\u001B[49m\u001B[43m)\u001B[49m\n\u001B[32m    328\u001B[39m res = obj._constructor(result, name=obj.name)\n\u001B[32m    329\u001B[39m \u001B[38;5;28;01mreturn\u001B[39;00m \u001B[38;5;28mself\u001B[39m._wrap_aggregated_output(res)\n",
      "\u001B[36mFile \u001B[39m\u001B[32m/opt/anaconda3/envs/ML_engineering_KC/lib/python3.12/site-packages/pandas/core/groupby/ops.py:864\u001B[39m, in \u001B[36mBaseGrouper.agg_series\u001B[39m\u001B[34m(self, obj, func, preserve_dtype)\u001B[39m\n\u001B[32m    857\u001B[39m \u001B[38;5;28;01mif\u001B[39;00m \u001B[38;5;129;01mnot\u001B[39;00m \u001B[38;5;28misinstance\u001B[39m(obj._values, np.ndarray):\n\u001B[32m    858\u001B[39m     \u001B[38;5;66;03m# we can preserve a little bit more aggressively with EA dtype\u001B[39;00m\n\u001B[32m    859\u001B[39m     \u001B[38;5;66;03m#  because maybe_cast_pointwise_result will do a try/except\u001B[39;00m\n\u001B[32m    860\u001B[39m     \u001B[38;5;66;03m#  with _from_sequence.  NB we are assuming here that _from_sequence\u001B[39;00m\n\u001B[32m    861\u001B[39m     \u001B[38;5;66;03m#  is sufficiently strict that it casts appropriately.\u001B[39;00m\n\u001B[32m    862\u001B[39m     preserve_dtype = \u001B[38;5;28;01mTrue\u001B[39;00m\n\u001B[32m--> \u001B[39m\u001B[32m864\u001B[39m result = \u001B[38;5;28;43mself\u001B[39;49m\u001B[43m.\u001B[49m\u001B[43m_aggregate_series_pure_python\u001B[49m\u001B[43m(\u001B[49m\u001B[43mobj\u001B[49m\u001B[43m,\u001B[49m\u001B[43m \u001B[49m\u001B[43mfunc\u001B[49m\u001B[43m)\u001B[49m\n\u001B[32m    866\u001B[39m npvalues = lib.maybe_convert_objects(result, try_float=\u001B[38;5;28;01mFalse\u001B[39;00m)\n\u001B[32m    867\u001B[39m \u001B[38;5;28;01mif\u001B[39;00m preserve_dtype:\n",
      "\u001B[36mFile \u001B[39m\u001B[32m/opt/anaconda3/envs/ML_engineering_KC/lib/python3.12/site-packages/pandas/core/groupby/ops.py:885\u001B[39m, in \u001B[36mBaseGrouper._aggregate_series_pure_python\u001B[39m\u001B[34m(self, obj, func)\u001B[39m\n\u001B[32m    882\u001B[39m splitter = \u001B[38;5;28mself\u001B[39m._get_splitter(obj, axis=\u001B[32m0\u001B[39m)\n\u001B[32m    884\u001B[39m \u001B[38;5;28;01mfor\u001B[39;00m i, group \u001B[38;5;129;01min\u001B[39;00m \u001B[38;5;28menumerate\u001B[39m(splitter):\n\u001B[32m--> \u001B[39m\u001B[32m885\u001B[39m     res = \u001B[43mfunc\u001B[49m\u001B[43m(\u001B[49m\u001B[43mgroup\u001B[49m\u001B[43m)\u001B[49m\n\u001B[32m    886\u001B[39m     res = extract_result(res)\n\u001B[32m    888\u001B[39m     \u001B[38;5;28;01mif\u001B[39;00m \u001B[38;5;129;01mnot\u001B[39;00m initialized:\n\u001B[32m    889\u001B[39m         \u001B[38;5;66;03m# We only do this validation on the first iteration\u001B[39;00m\n",
      "\u001B[36mFile \u001B[39m\u001B[32m/opt/anaconda3/envs/ML_engineering_KC/lib/python3.12/site-packages/pandas/core/groupby/generic.py:324\u001B[39m, in \u001B[36mSeriesGroupBy._python_agg_general.<locals>.<lambda>\u001B[39m\u001B[34m(x)\u001B[39m\n\u001B[32m    322\u001B[39m     alias = com._builtin_table_alias[func]\n\u001B[32m    323\u001B[39m     warn_alias_replacement(\u001B[38;5;28mself\u001B[39m, orig_func, alias)\n\u001B[32m--> \u001B[39m\u001B[32m324\u001B[39m f = \u001B[38;5;28;01mlambda\u001B[39;00m x: \u001B[43mfunc\u001B[49m\u001B[43m(\u001B[49m\u001B[43mx\u001B[49m\u001B[43m,\u001B[49m\u001B[43m \u001B[49m\u001B[43m*\u001B[49m\u001B[43margs\u001B[49m\u001B[43m,\u001B[49m\u001B[43m \u001B[49m\u001B[43m*\u001B[49m\u001B[43m*\u001B[49m\u001B[43mkwargs\u001B[49m\u001B[43m)\u001B[49m\n\u001B[32m    326\u001B[39m obj = \u001B[38;5;28mself\u001B[39m._obj_with_exclusions\n\u001B[32m    327\u001B[39m result = \u001B[38;5;28mself\u001B[39m._grouper.agg_series(obj, f)\n",
      "\u001B[36mCell\u001B[39m\u001B[36m \u001B[39m\u001B[32mIn[15]\u001B[39m\u001B[32m, line 11\u001B[39m, in \u001B[36m<lambda>\u001B[39m\u001B[34m(x)\u001B[39m\n\u001B[32m      4\u001B[39m playstore[\u001B[33m'\u001B[39m\u001B[33mreviews\u001B[39m\u001B[33m'\u001B[39m] = pd.to_numeric(playstore[\u001B[33m'\u001B[39m\u001B[33mreviews\u001B[39m\u001B[33m'\u001B[39m], errors=\u001B[33m'\u001B[39m\u001B[33mcoerce\u001B[39m\u001B[33m'\u001B[39m)\n\u001B[32m      6\u001B[39m \u001B[38;5;66;03m# Строим сводную таблицу (pivot_table)\u001B[39;00m\n\u001B[32m      7\u001B[39m pivot = playstore.pivot_table(\n\u001B[32m      8\u001B[39m     values=[\u001B[33m'\u001B[39m\u001B[33mprice\u001B[39m\u001B[33m'\u001B[39m, \u001B[33m'\u001B[39m\u001B[33mrating\u001B[39m\u001B[33m'\u001B[39m, \u001B[33m'\u001B[39m\u001B[33mreviews\u001B[39m\u001B[33m'\u001B[39m],\n\u001B[32m      9\u001B[39m     index=[\u001B[33m'\u001B[39m\u001B[33mcategory\u001B[39m\u001B[33m'\u001B[39m, \u001B[33m'\u001B[39m\u001B[33mtype\u001B[39m\u001B[33m'\u001B[39m],\n\u001B[32m     10\u001B[39m     aggfunc={\n\u001B[32m---> \u001B[39m\u001B[32m11\u001B[39m         \u001B[33m'\u001B[39m\u001B[33mprice\u001B[39m\u001B[33m'\u001B[39m: \u001B[38;5;28;01mlambda\u001B[39;00m x: \u001B[38;5;28mround\u001B[39m(\u001B[43mx\u001B[49m\u001B[43m.\u001B[49m\u001B[43mmean\u001B[49m\u001B[43m(\u001B[49m\u001B[43m)\u001B[49m, \u001B[32m2\u001B[39m),\n\u001B[32m     12\u001B[39m         \u001B[33m'\u001B[39m\u001B[33mrating\u001B[39m\u001B[33m'\u001B[39m: \u001B[38;5;28;01mlambda\u001B[39;00m x: \u001B[38;5;28mround\u001B[39m(x.mean(), \u001B[32m1\u001B[39m),\n\u001B[32m     13\u001B[39m         \u001B[33m'\u001B[39m\u001B[33mreviews\u001B[39m\u001B[33m'\u001B[39m: \u001B[38;5;28;01mlambda\u001B[39;00m x: \u001B[38;5;28mround\u001B[39m(x.mean(), \u001B[32m2\u001B[39m)\n\u001B[32m     14\u001B[39m     }\n\u001B[32m     15\u001B[39m )\n\u001B[32m     17\u001B[39m \u001B[38;5;66;03m# Переименовываем колонки\u001B[39;00m\n\u001B[32m     18\u001B[39m pivot = pivot.rename(columns={\n\u001B[32m     19\u001B[39m     \u001B[33m'\u001B[39m\u001B[33mprice\u001B[39m\u001B[33m'\u001B[39m: \u001B[33m'\u001B[39m\u001B[33mmean_price\u001B[39m\u001B[33m'\u001B[39m,\n\u001B[32m     20\u001B[39m     \u001B[33m'\u001B[39m\u001B[33mrating\u001B[39m\u001B[33m'\u001B[39m: \u001B[33m'\u001B[39m\u001B[33mmean_rating\u001B[39m\u001B[33m'\u001B[39m,\n\u001B[32m     21\u001B[39m     \u001B[33m'\u001B[39m\u001B[33mreviews\u001B[39m\u001B[33m'\u001B[39m: \u001B[33m'\u001B[39m\u001B[33mmean_reviews\u001B[39m\u001B[33m'\u001B[39m\n\u001B[32m     22\u001B[39m })\n",
      "\u001B[36mFile \u001B[39m\u001B[32m/opt/anaconda3/envs/ML_engineering_KC/lib/python3.12/site-packages/pandas/core/series.py:6549\u001B[39m, in \u001B[36mSeries.mean\u001B[39m\u001B[34m(self, axis, skipna, numeric_only, **kwargs)\u001B[39m\n\u001B[32m   6541\u001B[39m \u001B[38;5;129m@doc\u001B[39m(make_doc(\u001B[33m\"\u001B[39m\u001B[33mmean\u001B[39m\u001B[33m\"\u001B[39m, ndim=\u001B[32m1\u001B[39m))\n\u001B[32m   6542\u001B[39m \u001B[38;5;28;01mdef\u001B[39;00m\u001B[38;5;250m \u001B[39m\u001B[34mmean\u001B[39m(\n\u001B[32m   6543\u001B[39m     \u001B[38;5;28mself\u001B[39m,\n\u001B[32m   (...)\u001B[39m\u001B[32m   6547\u001B[39m     **kwargs,\n\u001B[32m   6548\u001B[39m ):\n\u001B[32m-> \u001B[39m\u001B[32m6549\u001B[39m     \u001B[38;5;28;01mreturn\u001B[39;00m \u001B[43mNDFrame\u001B[49m\u001B[43m.\u001B[49m\u001B[43mmean\u001B[49m\u001B[43m(\u001B[49m\u001B[38;5;28;43mself\u001B[39;49m\u001B[43m,\u001B[49m\u001B[43m \u001B[49m\u001B[43maxis\u001B[49m\u001B[43m,\u001B[49m\u001B[43m \u001B[49m\u001B[43mskipna\u001B[49m\u001B[43m,\u001B[49m\u001B[43m \u001B[49m\u001B[43mnumeric_only\u001B[49m\u001B[43m,\u001B[49m\u001B[43m \u001B[49m\u001B[43m*\u001B[49m\u001B[43m*\u001B[49m\u001B[43mkwargs\u001B[49m\u001B[43m)\u001B[49m\n",
      "\u001B[36mFile \u001B[39m\u001B[32m/opt/anaconda3/envs/ML_engineering_KC/lib/python3.12/site-packages/pandas/core/generic.py:12420\u001B[39m, in \u001B[36mNDFrame.mean\u001B[39m\u001B[34m(self, axis, skipna, numeric_only, **kwargs)\u001B[39m\n\u001B[32m  12413\u001B[39m \u001B[38;5;28;01mdef\u001B[39;00m\u001B[38;5;250m \u001B[39m\u001B[34mmean\u001B[39m(\n\u001B[32m  12414\u001B[39m     \u001B[38;5;28mself\u001B[39m,\n\u001B[32m  12415\u001B[39m     axis: Axis | \u001B[38;5;28;01mNone\u001B[39;00m = \u001B[32m0\u001B[39m,\n\u001B[32m   (...)\u001B[39m\u001B[32m  12418\u001B[39m     **kwargs,\n\u001B[32m  12419\u001B[39m ) -> Series | \u001B[38;5;28mfloat\u001B[39m:\n\u001B[32m> \u001B[39m\u001B[32m12420\u001B[39m     \u001B[38;5;28;01mreturn\u001B[39;00m \u001B[38;5;28;43mself\u001B[39;49m\u001B[43m.\u001B[49m\u001B[43m_stat_function\u001B[49m\u001B[43m(\u001B[49m\n\u001B[32m  12421\u001B[39m \u001B[43m        \u001B[49m\u001B[33;43m\"\u001B[39;49m\u001B[33;43mmean\u001B[39;49m\u001B[33;43m\"\u001B[39;49m\u001B[43m,\u001B[49m\u001B[43m \u001B[49m\u001B[43mnanops\u001B[49m\u001B[43m.\u001B[49m\u001B[43mnanmean\u001B[49m\u001B[43m,\u001B[49m\u001B[43m \u001B[49m\u001B[43maxis\u001B[49m\u001B[43m,\u001B[49m\u001B[43m \u001B[49m\u001B[43mskipna\u001B[49m\u001B[43m,\u001B[49m\u001B[43m \u001B[49m\u001B[43mnumeric_only\u001B[49m\u001B[43m,\u001B[49m\u001B[43m \u001B[49m\u001B[43m*\u001B[49m\u001B[43m*\u001B[49m\u001B[43mkwargs\u001B[49m\n\u001B[32m  12422\u001B[39m \u001B[43m    \u001B[49m\u001B[43m)\u001B[49m\n",
      "\u001B[36mFile \u001B[39m\u001B[32m/opt/anaconda3/envs/ML_engineering_KC/lib/python3.12/site-packages/pandas/core/generic.py:12377\u001B[39m, in \u001B[36mNDFrame._stat_function\u001B[39m\u001B[34m(self, name, func, axis, skipna, numeric_only, **kwargs)\u001B[39m\n\u001B[32m  12373\u001B[39m nv.validate_func(name, (), kwargs)\n\u001B[32m  12375\u001B[39m validate_bool_kwarg(skipna, \u001B[33m\"\u001B[39m\u001B[33mskipna\u001B[39m\u001B[33m\"\u001B[39m, none_allowed=\u001B[38;5;28;01mFalse\u001B[39;00m)\n\u001B[32m> \u001B[39m\u001B[32m12377\u001B[39m \u001B[38;5;28;01mreturn\u001B[39;00m \u001B[38;5;28;43mself\u001B[39;49m\u001B[43m.\u001B[49m\u001B[43m_reduce\u001B[49m\u001B[43m(\u001B[49m\n\u001B[32m  12378\u001B[39m \u001B[43m    \u001B[49m\u001B[43mfunc\u001B[49m\u001B[43m,\u001B[49m\u001B[43m \u001B[49m\u001B[43mname\u001B[49m\u001B[43m=\u001B[49m\u001B[43mname\u001B[49m\u001B[43m,\u001B[49m\u001B[43m \u001B[49m\u001B[43maxis\u001B[49m\u001B[43m=\u001B[49m\u001B[43maxis\u001B[49m\u001B[43m,\u001B[49m\u001B[43m \u001B[49m\u001B[43mskipna\u001B[49m\u001B[43m=\u001B[49m\u001B[43mskipna\u001B[49m\u001B[43m,\u001B[49m\u001B[43m \u001B[49m\u001B[43mnumeric_only\u001B[49m\u001B[43m=\u001B[49m\u001B[43mnumeric_only\u001B[49m\n\u001B[32m  12379\u001B[39m \u001B[43m\u001B[49m\u001B[43m)\u001B[49m\n",
      "\u001B[36mFile \u001B[39m\u001B[32m/opt/anaconda3/envs/ML_engineering_KC/lib/python3.12/site-packages/pandas/core/series.py:6457\u001B[39m, in \u001B[36mSeries._reduce\u001B[39m\u001B[34m(self, op, name, axis, skipna, numeric_only, filter_type, **kwds)\u001B[39m\n\u001B[32m   6452\u001B[39m     \u001B[38;5;66;03m# GH#47500 - change to TypeError to match other methods\u001B[39;00m\n\u001B[32m   6453\u001B[39m     \u001B[38;5;28;01mraise\u001B[39;00m \u001B[38;5;167;01mTypeError\u001B[39;00m(\n\u001B[32m   6454\u001B[39m         \u001B[33mf\u001B[39m\u001B[33m\"\u001B[39m\u001B[33mSeries.\u001B[39m\u001B[38;5;132;01m{\u001B[39;00mname\u001B[38;5;132;01m}\u001B[39;00m\u001B[33m does not allow \u001B[39m\u001B[38;5;132;01m{\u001B[39;00mkwd_name\u001B[38;5;132;01m}\u001B[39;00m\u001B[33m=\u001B[39m\u001B[38;5;132;01m{\u001B[39;00mnumeric_only\u001B[38;5;132;01m}\u001B[39;00m\u001B[33m \u001B[39m\u001B[33m\"\u001B[39m\n\u001B[32m   6455\u001B[39m         \u001B[33m\"\u001B[39m\u001B[33mwith non-numeric dtypes.\u001B[39m\u001B[33m\"\u001B[39m\n\u001B[32m   6456\u001B[39m     )\n\u001B[32m-> \u001B[39m\u001B[32m6457\u001B[39m \u001B[38;5;28;01mreturn\u001B[39;00m \u001B[43mop\u001B[49m\u001B[43m(\u001B[49m\u001B[43mdelegate\u001B[49m\u001B[43m,\u001B[49m\u001B[43m \u001B[49m\u001B[43mskipna\u001B[49m\u001B[43m=\u001B[49m\u001B[43mskipna\u001B[49m\u001B[43m,\u001B[49m\u001B[43m \u001B[49m\u001B[43m*\u001B[49m\u001B[43m*\u001B[49m\u001B[43mkwds\u001B[49m\u001B[43m)\u001B[49m\n",
      "\u001B[36mFile \u001B[39m\u001B[32m/opt/anaconda3/envs/ML_engineering_KC/lib/python3.12/site-packages/pandas/core/nanops.py:147\u001B[39m, in \u001B[36mbottleneck_switch.__call__.<locals>.f\u001B[39m\u001B[34m(values, axis, skipna, **kwds)\u001B[39m\n\u001B[32m    145\u001B[39m         result = alt(values, axis=axis, skipna=skipna, **kwds)\n\u001B[32m    146\u001B[39m \u001B[38;5;28;01melse\u001B[39;00m:\n\u001B[32m--> \u001B[39m\u001B[32m147\u001B[39m     result = \u001B[43malt\u001B[49m\u001B[43m(\u001B[49m\u001B[43mvalues\u001B[49m\u001B[43m,\u001B[49m\u001B[43m \u001B[49m\u001B[43maxis\u001B[49m\u001B[43m=\u001B[49m\u001B[43maxis\u001B[49m\u001B[43m,\u001B[49m\u001B[43m \u001B[49m\u001B[43mskipna\u001B[49m\u001B[43m=\u001B[49m\u001B[43mskipna\u001B[49m\u001B[43m,\u001B[49m\u001B[43m \u001B[49m\u001B[43m*\u001B[49m\u001B[43m*\u001B[49m\u001B[43mkwds\u001B[49m\u001B[43m)\u001B[49m\n\u001B[32m    149\u001B[39m \u001B[38;5;28;01mreturn\u001B[39;00m result\n",
      "\u001B[36mFile \u001B[39m\u001B[32m/opt/anaconda3/envs/ML_engineering_KC/lib/python3.12/site-packages/pandas/core/nanops.py:404\u001B[39m, in \u001B[36m_datetimelike_compat.<locals>.new_func\u001B[39m\u001B[34m(values, axis, skipna, mask, **kwargs)\u001B[39m\n\u001B[32m    401\u001B[39m \u001B[38;5;28;01mif\u001B[39;00m datetimelike \u001B[38;5;129;01mand\u001B[39;00m mask \u001B[38;5;129;01mis\u001B[39;00m \u001B[38;5;28;01mNone\u001B[39;00m:\n\u001B[32m    402\u001B[39m     mask = isna(values)\n\u001B[32m--> \u001B[39m\u001B[32m404\u001B[39m result = \u001B[43mfunc\u001B[49m\u001B[43m(\u001B[49m\u001B[43mvalues\u001B[49m\u001B[43m,\u001B[49m\u001B[43m \u001B[49m\u001B[43maxis\u001B[49m\u001B[43m=\u001B[49m\u001B[43maxis\u001B[49m\u001B[43m,\u001B[49m\u001B[43m \u001B[49m\u001B[43mskipna\u001B[49m\u001B[43m=\u001B[49m\u001B[43mskipna\u001B[49m\u001B[43m,\u001B[49m\u001B[43m \u001B[49m\u001B[43mmask\u001B[49m\u001B[43m=\u001B[49m\u001B[43mmask\u001B[49m\u001B[43m,\u001B[49m\u001B[43m \u001B[49m\u001B[43m*\u001B[49m\u001B[43m*\u001B[49m\u001B[43mkwargs\u001B[49m\u001B[43m)\u001B[49m\n\u001B[32m    406\u001B[39m \u001B[38;5;28;01mif\u001B[39;00m datetimelike:\n\u001B[32m    407\u001B[39m     result = _wrap_results(result, orig_values.dtype, fill_value=iNaT)\n",
      "\u001B[36mFile \u001B[39m\u001B[32m/opt/anaconda3/envs/ML_engineering_KC/lib/python3.12/site-packages/pandas/core/nanops.py:720\u001B[39m, in \u001B[36mnanmean\u001B[39m\u001B[34m(values, axis, skipna, mask)\u001B[39m\n\u001B[32m    718\u001B[39m count = _get_counts(values.shape, mask, axis, dtype=dtype_count)\n\u001B[32m    719\u001B[39m the_sum = values.sum(axis, dtype=dtype_sum)\n\u001B[32m--> \u001B[39m\u001B[32m720\u001B[39m the_sum = \u001B[43m_ensure_numeric\u001B[49m\u001B[43m(\u001B[49m\u001B[43mthe_sum\u001B[49m\u001B[43m)\u001B[49m\n\u001B[32m    722\u001B[39m \u001B[38;5;28;01mif\u001B[39;00m axis \u001B[38;5;129;01mis\u001B[39;00m \u001B[38;5;129;01mnot\u001B[39;00m \u001B[38;5;28;01mNone\u001B[39;00m \u001B[38;5;129;01mand\u001B[39;00m \u001B[38;5;28mgetattr\u001B[39m(the_sum, \u001B[33m\"\u001B[39m\u001B[33mndim\u001B[39m\u001B[33m\"\u001B[39m, \u001B[38;5;28;01mFalse\u001B[39;00m):\n\u001B[32m    723\u001B[39m     count = cast(np.ndarray, count)\n",
      "\u001B[36mFile \u001B[39m\u001B[32m/opt/anaconda3/envs/ML_engineering_KC/lib/python3.12/site-packages/pandas/core/nanops.py:1701\u001B[39m, in \u001B[36m_ensure_numeric\u001B[39m\u001B[34m(x)\u001B[39m\n\u001B[32m   1698\u001B[39m \u001B[38;5;28;01melif\u001B[39;00m \u001B[38;5;129;01mnot\u001B[39;00m (is_float(x) \u001B[38;5;129;01mor\u001B[39;00m is_integer(x) \u001B[38;5;129;01mor\u001B[39;00m is_complex(x)):\n\u001B[32m   1699\u001B[39m     \u001B[38;5;28;01mif\u001B[39;00m \u001B[38;5;28misinstance\u001B[39m(x, \u001B[38;5;28mstr\u001B[39m):\n\u001B[32m   1700\u001B[39m         \u001B[38;5;66;03m# GH#44008, GH#36703 avoid casting e.g. strings to numeric\u001B[39;00m\n\u001B[32m-> \u001B[39m\u001B[32m1701\u001B[39m         \u001B[38;5;28;01mraise\u001B[39;00m \u001B[38;5;167;01mTypeError\u001B[39;00m(\u001B[33mf\u001B[39m\u001B[33m\"\u001B[39m\u001B[33mCould not convert string \u001B[39m\u001B[33m'\u001B[39m\u001B[38;5;132;01m{\u001B[39;00mx\u001B[38;5;132;01m}\u001B[39;00m\u001B[33m'\u001B[39m\u001B[33m to numeric\u001B[39m\u001B[33m\"\u001B[39m)\n\u001B[32m   1702\u001B[39m     \u001B[38;5;28;01mtry\u001B[39;00m:\n\u001B[32m   1703\u001B[39m         x = \u001B[38;5;28mfloat\u001B[39m(x)\n",
      "\u001B[31mTypeError\u001B[39m: Could not convert string '00000000000000000000000000000000000000000000000000000000000000' to numeric"
     ]
    }
   ],
   "execution_count": 15
  }
 ],
 "metadata": {
  "kernelspec": {
   "display_name": "Python 3",
   "language": "python",
   "name": "python3"
  },
  "language_info": {
   "codemirror_mode": {
    "name": "ipython",
    "version": 2
   },
   "file_extension": ".py",
   "mimetype": "text/x-python",
   "name": "python",
   "nbconvert_exporter": "python",
   "pygments_lexer": "ipython2",
   "version": "2.7.6"
  }
 },
 "nbformat": 4,
 "nbformat_minor": 5
}
