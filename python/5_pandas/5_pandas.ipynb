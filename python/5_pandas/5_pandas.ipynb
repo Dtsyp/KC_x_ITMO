{
 "cells": [
  {
   "metadata": {
    "ExecuteTime": {
     "end_time": "2025-04-05T17:59:36.877002Z",
     "start_time": "2025-04-05T17:59:36.408948Z"
    }
   },
   "cell_type": "code",
   "source": [
    "import pandas as pd\n",
    "\n",
    "df = pd.read_csv('../datasets/6_pandas_data.csv')\n",
    "\n",
    "# Описание данных\n",
    "print(df.info())\n",
    "print(df.head())\n",
    "print(df.describe())\n",
    "print(df.dtypes)"
   ],
   "id": "f3529a2aa27a152c",
   "outputs": [
    {
     "name": "stdout",
     "output_type": "stream",
     "text": [
      "<class 'pandas.core.frame.DataFrame'>\n",
      "RangeIndex: 77260 entries, 0 to 77259\n",
      "Data columns (total 16 columns):\n",
      " #   Column             Non-Null Count  Dtype  \n",
      "---  ------             --------------  -----  \n",
      " 0   id                 77260 non-null  object \n",
      " 1   address            77260 non-null  object \n",
      " 2   categories         77260 non-null  object \n",
      " 3   city               77260 non-null  object \n",
      " 4   cuisines           38384 non-null  object \n",
      " 5   dateAdded          77260 non-null  object \n",
      " 6   dateUpdated        77260 non-null  object \n",
      " 7   latitude           55636 non-null  float64\n",
      " 8   longitude          55636 non-null  float64\n",
      " 9   menus.category     3729 non-null   object \n",
      " 10  menus.currency     40511 non-null  object \n",
      " 11  menus.dateSeen     77260 non-null  object \n",
      " 12  menus.description  29323 non-null  object \n",
      " 13  menus.name         77260 non-null  object \n",
      " 14  name               77257 non-null  object \n",
      " 15  province           77257 non-null  object \n",
      "dtypes: float64(2), object(14)\n",
      "memory usage: 9.4+ MB\n",
      "None\n",
      "                     id                   address  \\\n",
      "0  AVwc__cikufWRAb51QjV         610 Commercial St   \n",
      "1  AVwc__cikufWRAb51QjV         610 Commercial St   \n",
      "2  AVwc__dF_7pvs4fz1Ncy      9521 Morton Davis Dr   \n",
      "3  AVwc__kCByjofQCxkdm-  10550 W I 25 Frontage Rd   \n",
      "4  AVwc__WtByjofQCxkdkR             8495 W 3rd St   \n",
      "\n",
      "                                          categories         city  \\\n",
      "0  Restaurant Delivery Service,Restaurants,Pizza,...     Atchison   \n",
      "1  Restaurant Delivery Service,Restaurants,Pizza,...     Atchison   \n",
      "2       Golf Course, American Restaurant, and Resort    Patterson   \n",
      "3                               Fast Food Restaurant     Longmont   \n",
      "4  Mexican Restaurant Mid-City West,Mexican Resta...  Los Angeles   \n",
      "\n",
      "                      cuisines             dateAdded           dateUpdated  \\\n",
      "0  Restaurant Delivery Service  2016-03-02T11:49:34Z  2017-02-01T18:04:44Z   \n",
      "1  Restaurant Delivery Service  2016-03-02T11:49:34Z  2017-02-01T18:04:44Z   \n",
      "2                          NaN  2016-10-14T01:58:25Z  2016-10-14T01:58:25Z   \n",
      "3                          NaN  2016-09-09T17:30:34Z  2016-10-04T05:15:17Z   \n",
      "4                      Mexican  2016-05-19T11:50:25Z  2016-09-11T00:06:37Z   \n",
      "\n",
      "    latitude   longitude menus.category menus.currency        menus.dateSeen  \\\n",
      "0  39.561570  -95.121020            NaN            NaN  2017-02-01T18:04:44Z   \n",
      "1  39.561570  -95.121020            NaN            NaN  2016-03-02T11:49:34Z   \n",
      "2  37.401855 -121.266703            NaN            NaN  2016-10-14T01:58:25Z   \n",
      "3        NaN         NaN            NaN            NaN  2016-09-09T17:30:34Z   \n",
      "4  34.080724 -118.389578            NaN            NaN  2016-05-19T11:50:25Z   \n",
      "\n",
      "                                   menus.description         menus.name  \\\n",
      "0                                                NaN               Taco   \n",
      "1  Beef, onion, cheddar cheese, lettuce,  refried...               Taco   \n",
      "2  Beef barbacoa or chicken, spanish rice, pico d...   Smotherd Burrito   \n",
      "3                                                NaN    Sausage Burrito   \n",
      "4  Wahoo, avocado, cabbage, pico de gallo  and av...  Wahoo Tacogrilled   \n",
      "\n",
      "                                name      province  \n",
      "0                    Gambino's Pizza            KS  \n",
      "1                    Gambino's Pizza            KS  \n",
      "2  Diablo Grande Golf & Country Club       Grayson  \n",
      "3                         Mcdonald's         Niwot  \n",
      "4           Baja Fresh Mexican Grill  Bicentennial  \n",
      "           latitude     longitude\n",
      "count  55636.000000  55636.000000\n",
      "mean      36.694846    -98.713309\n",
      "std        4.835124     18.245857\n",
      "min      -31.986438   -159.492690\n",
      "25%       33.668355   -117.647150\n",
      "50%       36.047195    -96.682320\n",
      "75%       40.588380    -82.679930\n",
      "max       61.219460    115.903696\n",
      "id                    object\n",
      "address               object\n",
      "categories            object\n",
      "city                  object\n",
      "cuisines              object\n",
      "dateAdded             object\n",
      "dateUpdated           object\n",
      "latitude             float64\n",
      "longitude            float64\n",
      "menus.category        object\n",
      "menus.currency        object\n",
      "menus.dateSeen        object\n",
      "menus.description     object\n",
      "menus.name            object\n",
      "name                  object\n",
      "province              object\n",
      "dtype: object\n"
     ]
    }
   ],
   "execution_count": 1
  },
  {
   "metadata": {},
   "cell_type": "markdown",
   "source": [
    "## Описание данных:\n",
    "\n",
    "- `id` - уникальный идентификатор заведения\n",
    "- `address` - физический адрес заведения\n",
    "- `categories` - категории заведения (например, \"Fast food restaurant\").\n",
    "- `city` - город, в котором заведение находится.\n",
    "- `cuisines` - кухни, которые практикуются в заведении. Например \"Mexican\".\n",
    "- `dateAdded` - дата добавления записи. Будем считать, что она совпадает с датой открытия заведения.\n",
    "- `dateUpdated` - дата обновления информации о заведении.\n",
    "- `latitude` - географическая широта.\n",
    "- `longitude` - географическая долгота.\n",
    "- `menus.category` - категории пищи в меню.\n",
    "- `menus.currency` - валюта, в которой принимают оплату.\n",
    "- `menus.dateSeen` - дата, когда было заведено это меню.\n",
    "- `menus.description` - описание меню от заведения.\n",
    "- `menus.name` - название меню.\n",
    "- `name` - название заведения.\n",
    "- `province` - область (штат), где находится заведение."
   ],
   "id": "56f7408f3b6b7f4"
  },
  {
   "metadata": {
    "ExecuteTime": {
     "end_time": "2025-04-05T18:10:32.735142Z",
     "start_time": "2025-04-05T18:10:32.689652Z"
    }
   },
   "cell_type": "code",
   "source": [
    "# Посмотрим сколько пропущенных данных\n",
    "# print(df.isna().sum())\n",
    "\n",
    "#  Удалим пропуски\n",
    "print(df.dropna().info())\n",
    "# print(df.info())\n",
    "# df = df.dropna()\n",
    "# print(df.info())\n",
    "\n",
    "print(f\"Indexes in California {df.index[df[\"city\"] == \"California\"].tolist()}\")\n",
    "print(f\"Indexes in California and name = Taco Bell {df.index[(df['categories'] == \"Taco Bell\") & (df[\"city\"] == \"California\")].tolist()}\")"
   ],
   "id": "592b689292775405",
   "outputs": [
    {
     "name": "stdout",
     "output_type": "stream",
     "text": [
      "<class 'pandas.core.frame.DataFrame'>\n",
      "Index: 1925 entries, 72 to 77014\n",
      "Data columns (total 16 columns):\n",
      " #   Column             Non-Null Count  Dtype  \n",
      "---  ------             --------------  -----  \n",
      " 0   id                 1925 non-null   object \n",
      " 1   address            1925 non-null   object \n",
      " 2   categories         1925 non-null   object \n",
      " 3   city               1925 non-null   object \n",
      " 4   cuisines           1925 non-null   object \n",
      " 5   dateAdded          1925 non-null   object \n",
      " 6   dateUpdated        1925 non-null   object \n",
      " 7   latitude           1925 non-null   float64\n",
      " 8   longitude          1925 non-null   float64\n",
      " 9   menus.category     1925 non-null   object \n",
      " 10  menus.currency     1925 non-null   object \n",
      " 11  menus.dateSeen     1925 non-null   object \n",
      " 12  menus.description  1925 non-null   object \n",
      " 13  menus.name         1925 non-null   object \n",
      " 14  name               1925 non-null   object \n",
      " 15  province           1925 non-null   object \n",
      "dtypes: float64(2), object(14)\n",
      "memory usage: 255.7+ KB\n",
      "None\n",
      "Indexes in California [40483, 52930, 52931, 52932, 52933, 52934, 52935, 52936, 52937, 52938, 52939, 65070]\n",
      "Indexes in California and name = Taco Bell []\n"
     ]
    }
   ],
   "execution_count": 9
  }
 ],
 "metadata": {
  "kernelspec": {
   "display_name": "Python 3",
   "language": "python",
   "name": "python3"
  },
  "language_info": {
   "codemirror_mode": {
    "name": "ipython",
    "version": 2
   },
   "file_extension": ".py",
   "mimetype": "text/x-python",
   "name": "python",
   "nbconvert_exporter": "python",
   "pygments_lexer": "ipython2",
   "version": "2.7.6"
  }
 },
 "nbformat": 4,
 "nbformat_minor": 5
}
