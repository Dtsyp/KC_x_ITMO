{
 "cells": [
  {
   "cell_type": "code",
   "id": "initial_id",
   "metadata": {
    "collapsed": true,
    "ExecuteTime": {
     "end_time": "2025-04-07T16:27:46.922701Z",
     "start_time": "2025-04-07T16:27:46.870212Z"
    }
   },
   "source": [
    "import pandas as pd\n",
    "\n",
    "playstore = pd.read_csv('../datasets/playstore.csv')\n",
    "\n",
    "playstore = playstore.drop_duplicates(subset='App')\n",
    "old = playstore.columns\n",
    "new = old.str.lower().str.replace(' ', '_')\n",
    "playstore = playstore.rename(columns=dict(zip(old, new)))\n",
    "\n",
    "playstore['price'] = (\n",
    "    playstore['price']\n",
    "    .astype(str)\n",
    "    .str.replace('$', '', regex=False)\n",
    "    .astype(float)\n",
    ")\n",
    "\n",
    "pivot = playstore.pivot_table(\n",
    "    values=['price', 'rating', 'reviews'],\n",
    "    index=['category', 'type'],\n",
    "    aggfunc={\n",
    "        'price': lambda x: round(x.mean(), 2),\n",
    "        'rating': 'mean',\n",
    "        'reviews': lambda x: round(x.mean(), 2)\n",
    "    }\n",
    ")\n",
    "\n",
    "pivot['rating'] = pivot['rating'].round(1)\n",
    "\n",
    "pivot = pivot.rename(columns={\n",
    "    'price': 'mean_price',\n",
    "    'rating': 'mean_rating',\n",
    "    'reviews': 'mean_reviews'\n",
    "})\n",
    "\n",
    "print(pivot)\n",
    "\n",
    "pivot.to_csv('result.csv')"
   ],
   "outputs": [
    {
     "name": "stdout",
     "output_type": "stream",
     "text": [
      "                        mean_price  mean_rating  mean_reviews\n",
      "category          type                                       \n",
      "ART_AND_DESIGN    Free        0.00          4.3      23230.11\n",
      "                  Paid        1.99          4.7        722.00\n",
      "AUTO_AND_VEHICLES Free        0.00          4.2      14140.28\n",
      "                  Paid        4.49          4.6       1387.67\n",
      "BEAUTY            Free        0.00          4.3       7476.23\n",
      "...                            ...          ...           ...\n",
      "TRAVEL_AND_LOCAL  Paid        4.16          4.1       1506.08\n",
      "VIDEO_PLAYERS     Free        0.00          4.0     424347.18\n",
      "                  Paid        2.62          4.1       3341.75\n",
      "WEATHER           Free        0.00          4.2     171249.62\n",
      "                  Paid        4.05          4.4      17055.12\n",
      "\n",
      "[63 rows x 3 columns]\n"
     ]
    }
   ],
   "execution_count": 12
  }
 ],
 "metadata": {
  "kernelspec": {
   "display_name": "Python 3",
   "language": "python",
   "name": "python3"
  },
  "language_info": {
   "codemirror_mode": {
    "name": "ipython",
    "version": 2
   },
   "file_extension": ".py",
   "mimetype": "text/x-python",
   "name": "python",
   "nbconvert_exporter": "python",
   "pygments_lexer": "ipython2",
   "version": "2.7.6"
  }
 },
 "nbformat": 4,
 "nbformat_minor": 5
}
